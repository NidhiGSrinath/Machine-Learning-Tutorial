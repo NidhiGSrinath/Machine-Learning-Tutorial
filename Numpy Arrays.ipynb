{
 "cells": [
  {
   "cell_type": "markdown",
   "id": "2be72e2b-7e0b-40ea-b467-a0fa41ac42e6",
   "metadata": {},
   "source": [
    "# NumPy "
   ]
  },
  {
   "cell_type": "markdown",
   "id": "8eaff0c4-139d-46aa-8b0d-bd79cc4d0b5e",
   "metadata": {},
   "source": [
    "* NumPy is a linear algebra library. \n",
    "* NumPy is the most popular data science library as most other python libraries that work with data use NumPy as a building block.\n",
    "* NumPy arrays are the most essential for this course. NumPy arrays contain two types, namely: Vectors (1D Arrays) and Matrices (2D Arrays)"
   ]
  },
  {
   "cell_type": "markdown",
   "id": "8ea72710-435e-4260-b404-6fa3b46c9279",
   "metadata": {},
   "source": [
    "### Installation instructions\n",
    " **If you use the Anaconda distribution, use the following command to install NumPy by typing the command below in your terminal or in your command prompt.**\n",
    " \n",
    "  *conda install numpy*\n",
    " \n",
    " **If you are not using Anaconda for python then check the official documentation of NumPy to understand how you can install it** \n",
    " \n",
    " [NumPy Installation Instructions](http://docs.scipy.org/doc/numpy-1.10.1/user/install.html)"
   ]
  },
  {
   "cell_type": "markdown",
   "id": "881120cf-cbb7-4f32-afa3-9add8d635a2e",
   "metadata": {},
   "source": [
    "**To understand why you would want to choose NumPy array as a way to store your data over using Lists, check out this uber cool**\n",
    "[StackOverflow Post](http://stackoverflow.com/questions/993984/why-numpy-instead-of-python-lists)"
   ]
  },
  {
   "cell_type": "markdown",
   "id": "10ba0641-4180-4e5e-8726-54d7640a1dbd",
   "metadata": {},
   "source": [
    "## Using NumPy\n",
    "**Once you have NumPy installed, you can import it using the following command.**"
   ]
  },
  {
   "cell_type": "code",
   "execution_count": 103,
   "id": "15a4ca19-c9b9-437f-987f-55363614d02b",
   "metadata": {},
   "outputs": [],
   "source": [
    "# Note that python is case sensitive and only accepts lower case for the word 'NumPy'\n",
    "import numpy as np"
   ]
  },
  {
   "cell_type": "markdown",
   "id": "a7113ac0-7f95-4402-8885-df28889dfdee",
   "metadata": {},
   "source": [
    "### Creating a NumPy Array\n",
    "We can create a NumPy array by casting a list or list of lists."
   ]
  },
  {
   "cell_type": "code",
   "execution_count": 104,
   "id": "89ba076e-5395-4146-ba5f-3207216b9743",
   "metadata": {},
   "outputs": [
    {
     "data": {
      "text/plain": [
       "[1, 2, 3]"
      ]
     },
     "execution_count": 104,
     "metadata": {},
     "output_type": "execute_result"
    }
   ],
   "source": [
    "my_list = [1,2,3]\n",
    "my_list"
   ]
  },
  {
   "cell_type": "code",
   "execution_count": 105,
   "id": "206f3e3d-16e2-417e-a5b0-31c29c9be026",
   "metadata": {},
   "outputs": [
    {
     "data": {
      "text/plain": [
       "array([1, 2, 3])"
      ]
     },
     "execution_count": 105,
     "metadata": {},
     "output_type": "execute_result"
    }
   ],
   "source": [
    "arr = np.array(my_list)\n",
    "arr"
   ]
  },
  {
   "cell_type": "markdown",
   "id": "8e39ca5b-a984-4031-89df-8a669d0b1834",
   "metadata": {},
   "source": [
    "This is a one dimensional array. If we want to create a two dimensional array,then we need to use multiple lists. "
   ]
  },
  {
   "cell_type": "code",
   "execution_count": 106,
   "id": "f2dbc1b4-1819-459c-b2b4-f1e74b42bac9",
   "metadata": {},
   "outputs": [
    {
     "data": {
      "text/plain": [
       "[[1, 2, 3], [4, 5, 6], [7, 8, 9]]"
      ]
     },
     "execution_count": 106,
     "metadata": {},
     "output_type": "execute_result"
    }
   ],
   "source": [
    "mat = [[1,2,3],[4,5,6],[7,8,9]]\n",
    "mat"
   ]
  },
  {
   "cell_type": "code",
   "execution_count": 107,
   "id": "80fc3940-fa73-4419-b4ad-9cd028636f46",
   "metadata": {},
   "outputs": [
    {
     "data": {
      "text/plain": [
       "array([[1, 2, 3],\n",
       "       [4, 5, 6],\n",
       "       [7, 8, 9]])"
      ]
     },
     "execution_count": 107,
     "metadata": {},
     "output_type": "execute_result"
    }
   ],
   "source": [
    "# To convert this list of lists into an array we can cast this list to an array\n",
    "arr_mat = np.array(mat)\n",
    "arr_mat"
   ]
  },
  {
   "cell_type": "markdown",
   "id": "e207834c-068e-448a-bb7f-250c1cf7c85b",
   "metadata": {},
   "source": [
    "The two sets of brackets indicate that this is a two dimensional array."
   ]
  },
  {
   "cell_type": "markdown",
   "id": "8770a92f-bea5-442d-98a2-25c631c9c55d",
   "metadata": {},
   "source": [
    "We will not be using this method very frequently to create NumPy arrays, instead we will be using NumPy's built in functions to create arrays."
   ]
  },
  {
   "cell_type": "markdown",
   "id": "4f5bc46b-5337-4061-8892-9bae3863aecf",
   "metadata": {},
   "source": [
    "#### Built in methods to create a NumPy array\n",
    "* Using arange\n",
    "* Using zeroes and ones\n",
    "* Using linspace\n",
    "* Using eye or identity matrix\n",
    "* Using rand or random"
   ]
  },
  {
   "cell_type": "markdown",
   "id": "460052a7-519d-435b-9fb3-6db3a4f7d953",
   "metadata": {},
   "source": [
    "#### arange()\n",
    "Arange returns evenly spaced values within a specified interval"
   ]
  },
  {
   "cell_type": "code",
   "execution_count": 108,
   "id": "5346362a-fa8b-4f62-81d2-57b252419531",
   "metadata": {},
   "outputs": [
    {
     "data": {
      "text/plain": [
       "array([0, 1, 2, 3, 4, 5, 6, 7, 8, 9])"
      ]
     },
     "execution_count": 108,
     "metadata": {},
     "output_type": "execute_result"
    }
   ],
   "source": [
    "# Using SHIFT+TAB function of the IDE we can see that the function takes a start and stop value for the range\n",
    "np.arange(0,10)"
   ]
  },
  {
   "cell_type": "code",
   "execution_count": 109,
   "id": "b05467fe-1d44-48b2-9ec1-2df04e0dd3bf",
   "metadata": {},
   "outputs": [
    {
     "data": {
      "text/plain": [
       "array([0, 2, 4, 6, 8])"
      ]
     },
     "execution_count": 109,
     "metadata": {},
     "output_type": "execute_result"
    }
   ],
   "source": [
    "# We can mention the step size and jump along the step size in the given range\n",
    "np.arange(0,10,2)"
   ]
  },
  {
   "cell_type": "markdown",
   "id": "5bcdd974-ce07-447e-b68c-3c57d94c19a1",
   "metadata": {},
   "source": [
    "#### Zeros and Ones\n",
    "Generates an array of zeros and ones."
   ]
  },
  {
   "cell_type": "code",
   "execution_count": 110,
   "id": "df2c7f84-b875-430a-924e-2573550d7770",
   "metadata": {},
   "outputs": [
    {
     "data": {
      "text/plain": [
       "array([0., 0., 0., 0., 0., 0.])"
      ]
     },
     "execution_count": 110,
     "metadata": {},
     "output_type": "execute_result"
    }
   ],
   "source": [
    "np.zeros(6)"
   ]
  },
  {
   "cell_type": "code",
   "execution_count": 111,
   "id": "004894b2-8d79-453c-aac4-4965f83d9e6b",
   "metadata": {},
   "outputs": [
    {
     "data": {
      "text/plain": [
       "array([1., 1., 1., 1., 1., 1.])"
      ]
     },
     "execution_count": 111,
     "metadata": {},
     "output_type": "execute_result"
    }
   ],
   "source": [
    "np.ones(6)"
   ]
  },
  {
   "cell_type": "code",
   "execution_count": 112,
   "id": "06a02211-a190-4bfd-aeb4-6a82a797abcd",
   "metadata": {},
   "outputs": [
    {
     "data": {
      "text/plain": [
       "array([[0., 0., 0.],\n",
       "       [0., 0., 0.]])"
      ]
     },
     "execution_count": 112,
     "metadata": {},
     "output_type": "execute_result"
    }
   ],
   "source": [
    "# To specify a 2D array we must enclose the dimensions of the matrix within two parenthesis'\n",
    "np.zeros((2,3))"
   ]
  },
  {
   "cell_type": "code",
   "execution_count": 113,
   "id": "d098b9a8-fc1b-4163-a881-238ad7e063eb",
   "metadata": {},
   "outputs": [
    {
     "data": {
      "text/plain": [
       "array([[1., 1., 1., 1.],\n",
       "       [1., 1., 1., 1.],\n",
       "       [1., 1., 1., 1.],\n",
       "       [1., 1., 1., 1.]])"
      ]
     },
     "execution_count": 113,
     "metadata": {},
     "output_type": "execute_result"
    }
   ],
   "source": [
    "np.ones((4,4))"
   ]
  },
  {
   "cell_type": "markdown",
   "id": "734125de-5107-4409-8f50-181c12c07177",
   "metadata": {},
   "source": [
    "#### Linspace\n",
    "Returns evenly spaced numbers over a specified interval."
   ]
  },
  {
   "cell_type": "code",
   "execution_count": 114,
   "id": "592859f5-0b41-4a82-8c32-9fff4c20a0fb",
   "metadata": {},
   "outputs": [
    {
     "data": {
      "text/plain": [
       "array([ 0.        ,  0.20408163,  0.40816327,  0.6122449 ,  0.81632653,\n",
       "        1.02040816,  1.2244898 ,  1.42857143,  1.63265306,  1.83673469,\n",
       "        2.04081633,  2.24489796,  2.44897959,  2.65306122,  2.85714286,\n",
       "        3.06122449,  3.26530612,  3.46938776,  3.67346939,  3.87755102,\n",
       "        4.08163265,  4.28571429,  4.48979592,  4.69387755,  4.89795918,\n",
       "        5.10204082,  5.30612245,  5.51020408,  5.71428571,  5.91836735,\n",
       "        6.12244898,  6.32653061,  6.53061224,  6.73469388,  6.93877551,\n",
       "        7.14285714,  7.34693878,  7.55102041,  7.75510204,  7.95918367,\n",
       "        8.16326531,  8.36734694,  8.57142857,  8.7755102 ,  8.97959184,\n",
       "        9.18367347,  9.3877551 ,  9.59183673,  9.79591837, 10.        ])"
      ]
     },
     "execution_count": 114,
     "metadata": {},
     "output_type": "execute_result"
    }
   ],
   "source": [
    "np.linspace(0,10)"
   ]
  },
  {
   "cell_type": "code",
   "execution_count": 115,
   "id": "3841cb63-4f25-439b-b5be-a72451fb1925",
   "metadata": {},
   "outputs": [
    {
     "data": {
      "text/plain": [
       "array([ 0.        ,  0.20408163,  0.40816327,  0.6122449 ,  0.81632653,\n",
       "        1.02040816,  1.2244898 ,  1.42857143,  1.63265306,  1.83673469,\n",
       "        2.04081633,  2.24489796,  2.44897959,  2.65306122,  2.85714286,\n",
       "        3.06122449,  3.26530612,  3.46938776,  3.67346939,  3.87755102,\n",
       "        4.08163265,  4.28571429,  4.48979592,  4.69387755,  4.89795918,\n",
       "        5.10204082,  5.30612245,  5.51020408,  5.71428571,  5.91836735,\n",
       "        6.12244898,  6.32653061,  6.53061224,  6.73469388,  6.93877551,\n",
       "        7.14285714,  7.34693878,  7.55102041,  7.75510204,  7.95918367,\n",
       "        8.16326531,  8.36734694,  8.57142857,  8.7755102 ,  8.97959184,\n",
       "        9.18367347,  9.3877551 ,  9.59183673,  9.79591837, 10.        ])"
      ]
     },
     "execution_count": 115,
     "metadata": {},
     "output_type": "execute_result"
    }
   ],
   "source": [
    "# How is Linspace different from arange?\n",
    "# Arange takes a start and stop and a given step size. \n",
    "# Linspace takes in a third argument of how many points you want. \n",
    "np.linspace(0,10,50)"
   ]
  },
  {
   "cell_type": "markdown",
   "id": "157db3fd-99d2-4df3-9f4f-ae7361be6f87",
   "metadata": {},
   "source": [
    "Note that this a one dimensional array since it has only one pair of brackets."
   ]
  },
  {
   "cell_type": "markdown",
   "id": "0b402448-b2e8-425b-8ba9-6243faed4032",
   "metadata": {},
   "source": [
    "#### eye\n",
    "Returns an identity matrix (A square matrix with all diagonal elements as 1 and the rest of the matrix as 0)"
   ]
  },
  {
   "cell_type": "code",
   "execution_count": 116,
   "id": "4ea5fcc1-57a5-4530-a230-4d425169b4de",
   "metadata": {},
   "outputs": [
    {
     "data": {
      "text/plain": [
       "array([[1., 0., 0., 0., 0.],\n",
       "       [0., 1., 0., 0., 0.],\n",
       "       [0., 0., 1., 0., 0.],\n",
       "       [0., 0., 0., 1., 0.],\n",
       "       [0., 0., 0., 0., 1.]])"
      ]
     },
     "execution_count": 116,
     "metadata": {},
     "output_type": "execute_result"
    }
   ],
   "source": [
    "#The digit specified in the function determines the number of rows and columns of the square matrix. \n",
    "np.eye(5)"
   ]
  },
  {
   "cell_type": "markdown",
   "id": "23fc1410-72f2-4248-9d07-edd8a03cbd49",
   "metadata": {},
   "source": [
    "Identity matrices can only be two dimensional."
   ]
  },
  {
   "cell_type": "markdown",
   "id": "51bc83b0-a448-4ca9-bb04-acb2e6272aa2",
   "metadata": {},
   "source": [
    "#### Random\n",
    "NumPy has various ways to create an array of random numbers.\n",
    "\n",
    "#### rand\n",
    "Creates an array of the given shape and populates it with\n",
    "random samples from a uniform distribution\n",
    "over ``[0, 1)``."
   ]
  },
  {
   "cell_type": "code",
   "execution_count": 117,
   "id": "c187c861-860b-4240-b884-eaffecbae569",
   "metadata": {},
   "outputs": [
    {
     "data": {
      "text/plain": [
       "array([0.39345245, 0.11642037, 0.0337788 , 0.98080288, 0.65782178])"
      ]
     },
     "execution_count": 117,
     "metadata": {},
     "output_type": "execute_result"
    }
   ],
   "source": [
    "np.random.rand(5)"
   ]
  },
  {
   "cell_type": "code",
   "execution_count": 118,
   "id": "2d5f7a79-c922-439f-8795-5cc636e24f87",
   "metadata": {},
   "outputs": [
    {
     "data": {
      "text/plain": [
       "array([[0.32983825, 0.31091702, 0.1707833 , 0.2048474 , 0.34913361],\n",
       "       [0.86077761, 0.72545204, 0.35622598, 0.6554535 , 0.04756591],\n",
       "       [0.65026309, 0.76181115, 0.29093674, 0.56928681, 0.81665684],\n",
       "       [0.61354855, 0.51209281, 0.98604667, 0.87934171, 0.49039711],\n",
       "       [0.00935959, 0.32429983, 0.24879315, 0.85452973, 0.56780415]])"
      ]
     },
     "execution_count": 118,
     "metadata": {},
     "output_type": "execute_result"
    }
   ],
   "source": [
    "# We need not use a tuple for this function\n",
    "np.random.rand(5,5)"
   ]
  },
  {
   "cell_type": "markdown",
   "id": "37d8c4dd-669b-4725-b460-dc16c040f3b1",
   "metadata": {},
   "source": [
    "#### randn\n",
    "Return a sample (or samples) from the \"standard normal\" distribution. Unlike rand which is uniform"
   ]
  },
  {
   "cell_type": "code",
   "execution_count": 119,
   "id": "e32c45cc-34dd-41ff-a4b6-f7c511d86a32",
   "metadata": {},
   "outputs": [
    {
     "data": {
      "text/plain": [
       "array([-0.52004572, -1.11763593])"
      ]
     },
     "execution_count": 119,
     "metadata": {},
     "output_type": "execute_result"
    }
   ],
   "source": [
    "# The randn function is a norma distribution centered around 0  \n",
    "# The rand function uses uniform distribution that is centered around 0 to 1\n",
    "np.random.randn(2)"
   ]
  },
  {
   "cell_type": "code",
   "execution_count": 120,
   "id": "4835204e-748f-4397-b939-d7df5ab5ab55",
   "metadata": {},
   "outputs": [
    {
     "data": {
      "text/plain": [
       "array([[-0.26780898, -0.89912334, -0.15024726,  1.2163104 , -0.11990018],\n",
       "       [ 0.39516708, -1.14609983, -1.22263104, -0.19988603, -0.49703246],\n",
       "       [ 0.18240261,  0.58778275,  0.00322191, -0.46087727,  0.67025229],\n",
       "       [-0.62230954,  0.25244504,  0.75016651, -2.00232855,  1.27662017],\n",
       "       [-1.67446583,  0.19084667, -1.40666702,  0.06132501, -0.22412682]])"
      ]
     },
     "execution_count": 120,
     "metadata": {},
     "output_type": "execute_result"
    }
   ],
   "source": [
    "# We can even create a 2D array as follows\n",
    "np.random.randn(5,5)"
   ]
  },
  {
   "cell_type": "markdown",
   "id": "77d082d8-5c3b-4050-8c78-5fff3421e2da",
   "metadata": {},
   "source": [
    "#### randint\n",
    "Returns a random integer from an inclusive low and exclusive high."
   ]
  },
  {
   "cell_type": "code",
   "execution_count": 121,
   "id": "949687d2-c3b8-47f9-b907-db6a3a91b283",
   "metadata": {},
   "outputs": [
    {
     "data": {
      "text/plain": [
       "76"
      ]
     },
     "execution_count": 121,
     "metadata": {},
     "output_type": "execute_result"
    }
   ],
   "source": [
    "np.random.randint(1,100)"
   ]
  },
  {
   "cell_type": "code",
   "execution_count": 122,
   "id": "98d70340-f079-4e7c-8ce0-ee2a158fd4f9",
   "metadata": {},
   "outputs": [
    {
     "data": {
      "text/plain": [
       "array([98, 61, 36, 89, 92, 28, 34, 41, 56, 50])"
      ]
     },
     "execution_count": 122,
     "metadata": {},
     "output_type": "execute_result"
    }
   ],
   "source": [
    "# We can even specify how many elements we want\n",
    "np.random.randint(1,100,10)"
   ]
  },
  {
   "cell_type": "markdown",
   "id": "2b79acc1-7d96-4afb-ae0e-161cc65e8aa4",
   "metadata": {},
   "source": [
    "### Array Attributes and Methods"
   ]
  },
  {
   "cell_type": "code",
   "execution_count": 123,
   "id": "ba6cd30f-43a4-424c-94f3-cb17ebdbca13",
   "metadata": {},
   "outputs": [
    {
     "data": {
      "text/plain": [
       "array([ 0,  1,  2,  3,  4,  5,  6,  7,  8,  9, 10, 11, 12, 13, 14, 15, 16,\n",
       "       17, 18, 19, 20, 21, 22, 23, 24])"
      ]
     },
     "execution_count": 123,
     "metadata": {},
     "output_type": "execute_result"
    }
   ],
   "source": [
    "arr = np.arange(25)\n",
    "arr"
   ]
  },
  {
   "cell_type": "code",
   "execution_count": 124,
   "id": "e3fbe6fd-6d4c-42e5-bcb5-6d8a0c8687e5",
   "metadata": {},
   "outputs": [
    {
     "data": {
      "text/plain": [
       "array([ 7, 42, 25, 12,  4, 30, 38,  1, 41, 41])"
      ]
     },
     "execution_count": 124,
     "metadata": {},
     "output_type": "execute_result"
    }
   ],
   "source": [
    "ranarr = np.random.randint(0,50,10)\n",
    "ranarr"
   ]
  },
  {
   "cell_type": "markdown",
   "id": "9c71c8f5-ac94-44be-a336-a6b737889840",
   "metadata": {},
   "source": [
    "#### Reshape\n",
    "Returns an array of the same samples in a new shape."
   ]
  },
  {
   "cell_type": "code",
   "execution_count": 125,
   "id": "c9d27cd1-d5a6-4888-98ef-f92a48a594d8",
   "metadata": {},
   "outputs": [
    {
     "data": {
      "text/plain": [
       "array([[ 0,  1,  2,  3,  4],\n",
       "       [ 5,  6,  7,  8,  9],\n",
       "       [10, 11, 12, 13, 14],\n",
       "       [15, 16, 17, 18, 19],\n",
       "       [20, 21, 22, 23, 24]])"
      ]
     },
     "execution_count": 125,
     "metadata": {},
     "output_type": "execute_result"
    }
   ],
   "source": [
    "# Let us call the same variable with a different shape\n",
    "arr.reshape(5,5)"
   ]
  },
  {
   "cell_type": "markdown",
   "id": "43cae39c-ae98-4077-897f-5b5c688c3e9d",
   "metadata": {},
   "source": [
    "**Note that you will receive an error if you do not have enough elements to fill in the new shape of the array.**"
   ]
  },
  {
   "cell_type": "code",
   "execution_count": 126,
   "id": "7595f232-1035-40b3-9e34-ef0a979a06a6",
   "metadata": {},
   "outputs": [
    {
     "ename": "ValueError",
     "evalue": "cannot reshape array of size 25 into shape (5,10)",
     "output_type": "error",
     "traceback": [
      "\u001b[0;31m---------------------------------------------------------------------------\u001b[0m",
      "\u001b[0;31mValueError\u001b[0m                                Traceback (most recent call last)",
      "\u001b[0;32m<ipython-input-126-67c8f5e0ef4f>\u001b[0m in \u001b[0;36m<module>\u001b[0;34m\u001b[0m\n\u001b[0;32m----> 1\u001b[0;31m \u001b[0marr\u001b[0m\u001b[0;34m.\u001b[0m\u001b[0mreshape\u001b[0m\u001b[0;34m(\u001b[0m\u001b[0;36m5\u001b[0m\u001b[0;34m,\u001b[0m\u001b[0;36m10\u001b[0m\u001b[0;34m)\u001b[0m\u001b[0;34m\u001b[0m\u001b[0;34m\u001b[0m\u001b[0m\n\u001b[0m",
      "\u001b[0;31mValueError\u001b[0m: cannot reshape array of size 25 into shape (5,10)"
     ]
    }
   ],
   "source": [
    "arr.reshape(5,10)"
   ]
  },
  {
   "cell_type": "markdown",
   "id": "d3018084-9f0d-4287-946c-3756a2436038",
   "metadata": {},
   "source": [
    "An easy way to ensure that this error does not occur is to check if the row times the column is equal to the total number of elements."
   ]
  },
  {
   "cell_type": "markdown",
   "id": "07864bf4-99bb-4ac0-98c9-b7a2f4012ee6",
   "metadata": {},
   "source": [
    "#### min, max, argmin, argmax\n",
    "These are useful methods to find the min, max and their index locations. "
   ]
  },
  {
   "cell_type": "code",
   "execution_count": 127,
   "id": "bde71105-c7cf-4f70-84b9-784bf5ac7dea",
   "metadata": {},
   "outputs": [
    {
     "data": {
      "text/plain": [
       "array([ 7, 42, 25, 12,  4, 30, 38,  1, 41, 41])"
      ]
     },
     "execution_count": 127,
     "metadata": {},
     "output_type": "execute_result"
    }
   ],
   "source": [
    "ranarr"
   ]
  },
  {
   "cell_type": "code",
   "execution_count": 128,
   "id": "533a5148-456c-453a-8676-a97edb261dfe",
   "metadata": {},
   "outputs": [
    {
     "data": {
      "text/plain": [
       "1"
      ]
     },
     "execution_count": 128,
     "metadata": {},
     "output_type": "execute_result"
    }
   ],
   "source": [
    "ranarr.min()"
   ]
  },
  {
   "cell_type": "code",
   "execution_count": 129,
   "id": "ed405073-1fad-4f93-93a9-a652cb318d33",
   "metadata": {},
   "outputs": [
    {
     "data": {
      "text/plain": [
       "42"
      ]
     },
     "execution_count": 129,
     "metadata": {},
     "output_type": "execute_result"
    }
   ],
   "source": [
    "ranarr.max()"
   ]
  },
  {
   "cell_type": "code",
   "execution_count": 130,
   "id": "49ac1809-600b-4a3d-9b72-eb3348b4fb08",
   "metadata": {},
   "outputs": [
    {
     "data": {
      "text/plain": [
       "7"
      ]
     },
     "execution_count": 130,
     "metadata": {},
     "output_type": "execute_result"
    }
   ],
   "source": [
    "# Returns the position of the minimum value in the array\n",
    "ranarr.argmin()"
   ]
  },
  {
   "cell_type": "code",
   "execution_count": 131,
   "id": "113036c7-beeb-4e06-b70d-b310a1f60563",
   "metadata": {},
   "outputs": [
    {
     "data": {
      "text/plain": [
       "1"
      ]
     },
     "execution_count": 131,
     "metadata": {},
     "output_type": "execute_result"
    }
   ],
   "source": [
    "# Returns the position of the maximum value in the array\n",
    "ranarr.argmax()"
   ]
  },
  {
   "cell_type": "markdown",
   "id": "bed77dc8-e62e-4a8f-88ca-25698442fcd8",
   "metadata": {},
   "source": [
    "#### Shape\n",
    "Shape is an attribute of the arrays. Note that this is not a method."
   ]
  },
  {
   "cell_type": "code",
   "execution_count": 132,
   "id": "c3f972bf-b242-4daf-bb88-17e3f47686d4",
   "metadata": {},
   "outputs": [
    {
     "data": {
      "text/plain": [
       "(10,)"
      ]
     },
     "execution_count": 132,
     "metadata": {},
     "output_type": "execute_result"
    }
   ],
   "source": [
    "ranarr.shape"
   ]
  },
  {
   "cell_type": "code",
   "execution_count": 133,
   "id": "ae2d05df-646f-46c6-9dc3-b72f3a09d824",
   "metadata": {},
   "outputs": [
    {
     "data": {
      "text/plain": [
       "array([[ 7, 42, 25, 12,  4],\n",
       "       [30, 38,  1, 41, 41]])"
      ]
     },
     "execution_count": 133,
     "metadata": {},
     "output_type": "execute_result"
    }
   ],
   "source": [
    "arr = ranarr.reshape(2,5)\n",
    "arr"
   ]
  },
  {
   "cell_type": "code",
   "execution_count": 134,
   "id": "b9ffb062-9724-4b53-badf-6ca643db5fe0",
   "metadata": {},
   "outputs": [
    {
     "data": {
      "text/plain": [
       "(2, 5)"
      ]
     },
     "execution_count": 134,
     "metadata": {},
     "output_type": "execute_result"
    }
   ],
   "source": [
    "arr.shape"
   ]
  },
  {
   "cell_type": "markdown",
   "id": "069e1b16-37e7-4926-9a23-39c55e12c26f",
   "metadata": {},
   "source": [
    "#### dtype\n",
    "Returns the data type of the array"
   ]
  },
  {
   "cell_type": "code",
   "execution_count": 135,
   "id": "06934ad0-d767-4935-9f24-8369803235a6",
   "metadata": {},
   "outputs": [
    {
     "data": {
      "text/plain": [
       "dtype('int64')"
      ]
     },
     "execution_count": 135,
     "metadata": {},
     "output_type": "execute_result"
    }
   ],
   "source": [
    "arr.dtype"
   ]
  }
 ],
 "metadata": {
  "kernelspec": {
   "display_name": "Python 3",
   "language": "python",
   "name": "python3"
  },
  "language_info": {
   "codemirror_mode": {
    "name": "ipython",
    "version": 3
   },
   "file_extension": ".py",
   "mimetype": "text/x-python",
   "name": "python",
   "nbconvert_exporter": "python",
   "pygments_lexer": "ipython3",
   "version": "3.8.8"
  }
 },
 "nbformat": 4,
 "nbformat_minor": 5
}
