{
 "cells": [
  {
   "cell_type": "markdown",
   "id": "b08b6d19-7c9b-4e51-afd3-be85d550ecf4",
   "metadata": {},
   "source": [
    "## NumPy Indexing and Selection"
   ]
  },
  {
   "cell_type": "code",
   "execution_count": 122,
   "id": "4c186c36-e9cb-4196-abce-a20a404da29a",
   "metadata": {},
   "outputs": [],
   "source": [
    "import numpy as np"
   ]
  },
  {
   "cell_type": "code",
   "execution_count": 123,
   "id": "7cffde89-cef6-41bb-a11a-1fedf74464b5",
   "metadata": {},
   "outputs": [
    {
     "data": {
      "text/plain": [
       "array([ 0,  1,  2,  3,  4,  5,  6,  7,  8,  9, 10])"
      ]
     },
     "execution_count": 123,
     "metadata": {},
     "output_type": "execute_result"
    }
   ],
   "source": [
    "# Creating a sample array\n",
    "arr = np.arange(0,11)\n",
    "arr"
   ]
  },
  {
   "cell_type": "markdown",
   "id": "c411d63a-dc75-422b-9c8a-8bb801decb74",
   "metadata": {},
   "source": [
    "### Bracketing and selection\n",
    "The simplest way to pick up elements from an array is very similar to picking elements from lists in python."
   ]
  },
  {
   "cell_type": "code",
   "execution_count": 124,
   "id": "6a19240a-6a4a-4bc1-8167-08cf57c3f7f8",
   "metadata": {},
   "outputs": [
    {
     "data": {
      "text/plain": [
       "8"
      ]
     },
     "execution_count": 124,
     "metadata": {},
     "output_type": "execute_result"
    }
   ],
   "source": [
    "# Fetching the value at an index\n",
    "arr[8]"
   ]
  },
  {
   "cell_type": "code",
   "execution_count": 125,
   "id": "93907aa6-156f-49cd-b087-d5b3ca6bce4c",
   "metadata": {},
   "outputs": [
    {
     "data": {
      "text/plain": [
       "array([2, 3, 4])"
      ]
     },
     "execution_count": 125,
     "metadata": {},
     "output_type": "execute_result"
    }
   ],
   "source": [
    "# Fetching values in a range\n",
    "arr[2:5]"
   ]
  },
  {
   "cell_type": "code",
   "execution_count": 126,
   "id": "b7839340-2569-435f-ad4b-82b8aec251ac",
   "metadata": {},
   "outputs": [
    {
     "data": {
      "text/plain": [
       "array([0, 1, 2, 3, 4])"
      ]
     },
     "execution_count": 126,
     "metadata": {},
     "output_type": "execute_result"
    }
   ],
   "source": [
    "arr[:5]"
   ]
  },
  {
   "cell_type": "markdown",
   "id": "ead36353-24f1-460b-bc36-f10fa8f6269f",
   "metadata": {},
   "source": [
    "### Broadcasting\n",
    "NumPy arrays are different from lists because of their ability to broadcast."
   ]
  },
  {
   "cell_type": "code",
   "execution_count": 127,
   "id": "1c1f1d50-0023-4d2f-8fc4-51370f76d7c8",
   "metadata": {},
   "outputs": [
    {
     "data": {
      "text/plain": [
       "array([100, 100, 100,   3,   4,   5,   6,   7,   8,   9,  10])"
      ]
     },
     "execution_count": 127,
     "metadata": {},
     "output_type": "execute_result"
    }
   ],
   "source": [
    "# Setting a value with an index range\n",
    "# The value 100 is broadcasted to the first three elements in this case\n",
    "arr[0:3] = 100\n",
    "arr"
   ]
  },
  {
   "cell_type": "code",
   "execution_count": 128,
   "id": "d100a580-8b2a-4c85-af81-b51d156cf6f7",
   "metadata": {},
   "outputs": [
    {
     "data": {
      "text/plain": [
       "array([ 0,  1,  2,  3,  4,  5,  6,  7,  8,  9, 10])"
      ]
     },
     "execution_count": 128,
     "metadata": {},
     "output_type": "execute_result"
    }
   ],
   "source": [
    "# Reset the array, we will understand the importance of this step further..\n",
    "arr = np.arange(0,11)\n",
    "arr"
   ]
  },
  {
   "cell_type": "code",
   "execution_count": 129,
   "id": "9d918128-63ef-4c97-9b92-2b77ae65d331",
   "metadata": {},
   "outputs": [
    {
     "data": {
      "text/plain": [
       "array([0, 1, 2, 3, 4])"
      ]
     },
     "execution_count": 129,
     "metadata": {},
     "output_type": "execute_result"
    }
   ],
   "source": [
    "# Let us see how slicing works on an array\n",
    "slice_of_arr = arr[:5]\n",
    "slice_of_arr"
   ]
  },
  {
   "cell_type": "code",
   "execution_count": 130,
   "id": "75884892-9d10-43cb-abdd-e5eacabf6ecf",
   "metadata": {},
   "outputs": [
    {
     "data": {
      "text/plain": [
       "array([99, 99, 99, 99, 99])"
      ]
     },
     "execution_count": 130,
     "metadata": {},
     "output_type": "execute_result"
    }
   ],
   "source": [
    "# Let us broadcast the value 99 to the sliced array\n",
    "slice_of_arr[:] = 99\n",
    "slice_of_arr"
   ]
  },
  {
   "cell_type": "code",
   "execution_count": 131,
   "id": "a2fccbf2-15e3-41f4-88aa-fb067fc93798",
   "metadata": {},
   "outputs": [
    {
     "data": {
      "text/plain": [
       "array([99, 99, 99, 99, 99,  5,  6,  7,  8,  9, 10])"
      ]
     },
     "execution_count": 131,
     "metadata": {},
     "output_type": "execute_result"
    }
   ],
   "source": [
    "# Now if we check the original array, the values in it have also changed\n",
    "arr"
   ]
  },
  {
   "cell_type": "markdown",
   "id": "647043d4-b716-4032-908a-a4f306cd6f4c",
   "metadata": {},
   "source": [
    "This means that the data is not copied onto a new array whereas it is only the view to the original array. Which is why the values in the original array also change when you change the values in the sliced array.\n",
    "\n",
    "NumPy does this to avoid memory issues with very large arrays.\n",
    "\n",
    "**If you want to actually create a copy of the original array, then we can use the following method:**"
   ]
  },
  {
   "cell_type": "code",
   "execution_count": 132,
   "id": "c1c98755-ed87-49ae-a950-184982243d3c",
   "metadata": {},
   "outputs": [
    {
     "data": {
      "text/plain": [
       "array([99, 99, 99, 99, 99,  5,  6,  7,  8,  9, 10])"
      ]
     },
     "execution_count": 132,
     "metadata": {},
     "output_type": "execute_result"
    }
   ],
   "source": [
    "arr_copy = arr.copy()\n",
    "arr_copy"
   ]
  },
  {
   "cell_type": "markdown",
   "id": "6bfa2b21-11ff-46c8-a7ad-e68047c2f516",
   "metadata": {},
   "source": [
    "### Indexing a 2D array or matrix\n",
    "The general format is **array[row][col]** or **array[row,col]**. "
   ]
  },
  {
   "cell_type": "code",
   "execution_count": 133,
   "id": "1231fcbd-4ff0-4483-8462-028d5acf0da8",
   "metadata": {},
   "outputs": [
    {
     "data": {
      "text/plain": [
       "array([[10, 21, 23],\n",
       "       [42, 15, 26],\n",
       "       [23, 51, 17]])"
      ]
     },
     "execution_count": 133,
     "metadata": {},
     "output_type": "execute_result"
    }
   ],
   "source": [
    "arr_2d = np.array([[10,21,23],[42,15,26],[23,51,17]])\n",
    "arr_2d"
   ]
  },
  {
   "cell_type": "code",
   "execution_count": 134,
   "id": "0114f989-f248-4439-a507-25471cf2446b",
   "metadata": {},
   "outputs": [
    {
     "data": {
      "text/plain": [
       "array([42, 15, 26])"
      ]
     },
     "execution_count": 134,
     "metadata": {},
     "output_type": "execute_result"
    }
   ],
   "source": [
    "# Indexing a row\n",
    "arr_2d[1]"
   ]
  },
  {
   "cell_type": "code",
   "execution_count": 135,
   "id": "2e42111d-dd69-4b74-81cc-87ab0b46cb6c",
   "metadata": {},
   "outputs": [
    {
     "data": {
      "text/plain": [
       "26"
      ]
     },
     "execution_count": 135,
     "metadata": {},
     "output_type": "execute_result"
    }
   ],
   "source": [
    "# Fetching an individual value\n",
    "arr_2d[1][2]"
   ]
  },
  {
   "cell_type": "code",
   "execution_count": 136,
   "id": "792450f8-7627-4bc0-95b6-7092596c50fc",
   "metadata": {},
   "outputs": [
    {
     "data": {
      "text/plain": [
       "26"
      ]
     },
     "execution_count": 136,
     "metadata": {},
     "output_type": "execute_result"
    }
   ],
   "source": [
    "arr_2d[1,2]"
   ]
  },
  {
   "cell_type": "code",
   "execution_count": 137,
   "id": "5745a0a2-0e33-4def-b592-d33478a13e6e",
   "metadata": {},
   "outputs": [
    {
     "data": {
      "text/plain": [
       "array([[10, 21, 23],\n",
       "       [42, 15, 26],\n",
       "       [23, 51, 17]])"
      ]
     },
     "execution_count": 137,
     "metadata": {},
     "output_type": "execute_result"
    }
   ],
   "source": [
    "# 2D array slicing\n",
    "arr_2d"
   ]
  },
  {
   "cell_type": "code",
   "execution_count": 138,
   "id": "9dcbdf30-1f10-4241-995f-fe74daba4467",
   "metadata": {},
   "outputs": [
    {
     "data": {
      "text/plain": [
       "array([[21, 23],\n",
       "       [15, 26]])"
      ]
     },
     "execution_count": 138,
     "metadata": {},
     "output_type": "execute_result"
    }
   ],
   "source": [
    "# Let us say we want to fetch the 2x2 matrix in the top right corner\n",
    "arr_2d[:2,1:]"
   ]
  },
  {
   "cell_type": "code",
   "execution_count": 139,
   "id": "6f579907-cb56-47da-af94-80041ed289ef",
   "metadata": {},
   "outputs": [
    {
     "data": {
      "text/plain": [
       "array([[42, 15],\n",
       "       [23, 51]])"
      ]
     },
     "execution_count": 139,
     "metadata": {},
     "output_type": "execute_result"
    }
   ],
   "source": [
    "arr_2d[1:,:2]"
   ]
  },
  {
   "cell_type": "markdown",
   "id": "20269811-70da-4074-a3aa-4deee17c2c77",
   "metadata": {},
   "source": [
    "### Selection\n",
    "Let us now see how selection can be performed with the help of brackets based on comparison operators."
   ]
  },
  {
   "cell_type": "code",
   "execution_count": 140,
   "id": "c551ff0e-20c5-4b17-ad5a-d993b90e2e51",
   "metadata": {},
   "outputs": [
    {
     "data": {
      "text/plain": [
       "array([ 0,  1,  2,  3,  4,  5,  6,  7,  8,  9, 10])"
      ]
     },
     "execution_count": 140,
     "metadata": {},
     "output_type": "execute_result"
    }
   ],
   "source": [
    "arr = np.arange(0,11)\n",
    "arr"
   ]
  },
  {
   "cell_type": "code",
   "execution_count": 141,
   "id": "b9c757e3-b470-4101-812b-81cb0fbe3f8e",
   "metadata": {},
   "outputs": [
    {
     "data": {
      "text/plain": [
       "array([False, False, False, False, False,  True,  True,  True,  True,\n",
       "        True,  True])"
      ]
     },
     "execution_count": 141,
     "metadata": {},
     "output_type": "execute_result"
    }
   ],
   "source": [
    "# Let us use the greater than operator to see what the array returns\n",
    "arr > 4"
   ]
  },
  {
   "cell_type": "code",
   "execution_count": 142,
   "id": "84c2998b-6a87-4525-965e-3eb0b28b2f78",
   "metadata": {},
   "outputs": [
    {
     "data": {
      "text/plain": [
       "array([False, False, False, False, False,  True,  True,  True,  True,\n",
       "        True,  True])"
      ]
     },
     "execution_count": 142,
     "metadata": {},
     "output_type": "execute_result"
    }
   ],
   "source": [
    "# Let us now assign the boolean values to a variable\n",
    "bool_arr = arr > 4\n",
    "bool_arr"
   ]
  },
  {
   "cell_type": "code",
   "execution_count": 143,
   "id": "c18b840c-227d-49d1-b07c-a7d81499697d",
   "metadata": {},
   "outputs": [
    {
     "data": {
      "text/plain": [
       "array([ 5,  6,  7,  8,  9, 10])"
      ]
     },
     "execution_count": 143,
     "metadata": {},
     "output_type": "execute_result"
    }
   ],
   "source": [
    "# This fetches only the elements that hold true for the above condition\n",
    "arr[bool_arr]"
   ]
  },
  {
   "cell_type": "code",
   "execution_count": 144,
   "id": "c1e9652a-9ea2-41b2-b92c-2f2830ad4c78",
   "metadata": {},
   "outputs": [
    {
     "data": {
      "text/plain": [
       "array([ 3,  4,  5,  6,  7,  8,  9, 10])"
      ]
     },
     "execution_count": 144,
     "metadata": {},
     "output_type": "execute_result"
    }
   ],
   "source": [
    "arr[arr>2]"
   ]
  },
  {
   "cell_type": "code",
   "execution_count": 145,
   "id": "103a25bc-129d-48b4-885a-eab8c28631ed",
   "metadata": {},
   "outputs": [
    {
     "data": {
      "text/plain": [
       "array([ 4,  5,  6,  7,  8,  9, 10])"
      ]
     },
     "execution_count": 145,
     "metadata": {},
     "output_type": "execute_result"
    }
   ],
   "source": [
    "# We can even use variables for the conditional operations\n",
    "x = 3\n",
    "arr[arr>x]"
   ]
  },
  {
   "cell_type": "code",
   "execution_count": 146,
   "id": "9e6f0bbc-5ed2-41c4-94bf-4bb679b0da51",
   "metadata": {},
   "outputs": [
    {
     "data": {
      "text/plain": [
       "array([[ 0,  1,  2,  3,  4,  5,  6,  7,  8,  9],\n",
       "       [10, 11, 12, 13, 14, 15, 16, 17, 18, 19],\n",
       "       [20, 21, 22, 23, 24, 25, 26, 27, 28, 29],\n",
       "       [30, 31, 32, 33, 34, 35, 36, 37, 38, 39],\n",
       "       [40, 41, 42, 43, 44, 45, 46, 47, 48, 49]])"
      ]
     },
     "execution_count": 146,
     "metadata": {},
     "output_type": "execute_result"
    }
   ],
   "source": [
    "# Exercise\n",
    "arr_2d = np.arange(50).reshape(5,10)\n",
    "arr_2d"
   ]
  },
  {
   "cell_type": "markdown",
   "id": "6c3df84b-7cfd-4d88-b91c-e086e6aaca6b",
   "metadata": {},
   "source": [
    "Now grab chunks of this array using indexing and selection methods."
   ]
  }
 ],
 "metadata": {
  "kernelspec": {
   "display_name": "Python 3",
   "language": "python",
   "name": "python3"
  },
  "language_info": {
   "codemirror_mode": {
    "name": "ipython",
    "version": 3
   },
   "file_extension": ".py",
   "mimetype": "text/x-python",
   "name": "python",
   "nbconvert_exporter": "python",
   "pygments_lexer": "ipython3",
   "version": "3.8.8"
  }
 },
 "nbformat": 4,
 "nbformat_minor": 5
}
