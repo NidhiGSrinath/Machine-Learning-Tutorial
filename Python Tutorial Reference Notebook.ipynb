{
 "cells": [
  {
   "cell_type": "markdown",
   "id": "e1ce8e37-d930-4d60-8677-508e85c7474d",
   "metadata": {},
   "source": [
    "# Python Tutorial "
   ]
  },
  {
   "cell_type": "markdown",
   "id": "5bd21a9a-f998-44bb-81b1-c243197ebfcb",
   "metadata": {},
   "source": [
    "Python is a high-level, multipurpose programming language. \n",
    "\n",
    " It can be easily adapted to:\n",
    "- Web development\n",
    "- Machine Learning\n",
    "- Artificial Intelligence\n",
    "- Data Science "
   ]
  },
  {
   "cell_type": "markdown",
   "id": "0a0435d7-94cb-4088-b382-392f24b078d0",
   "metadata": {},
   "source": [
    "The three main building blocks of python\n",
    "- Environment or IDE\n",
    "- Syntax or the rules to be followed\n",
    "- Structure"
   ]
  },
  {
   "cell_type": "markdown",
   "id": "95d99077-4775-4c9f-95ce-f59e6a1c23a3",
   "metadata": {},
   "source": [
    "Python has multiple datatypes like most other programming languages. \n",
    "* Data types\n",
    "    * Numbers\n",
    "    * Strings\n",
    "    * Print statements \n",
    "    * Lists\n",
    "    * Dictionaries\n",
    "    * Booleans\n",
    "    * Tuples \n",
    "    * Sets\n",
    "\n",
    "Other important parts of Python:\n",
    "* Comparison Operators\n",
    "* if, elif, else Statements\n",
    "* for Loops\n",
    "* while Loops\n",
    "* range()\n",
    "* functions\n",
    "* lambda expressions\n",
    "* map \n",
    "* methods"
   ]
  },
  {
   "cell_type": "markdown",
   "id": "ec9e41dc-f2e9-4400-aa97-f713f1857188",
   "metadata": {},
   "source": [
    "### Data Types "
   ]
  },
  {
   "cell_type": "markdown",
   "id": "5d2d2d03-c508-4f55-8a68-c72dfd5f2c8c",
   "metadata": {},
   "source": [
    "#### Numbers"
   ]
  },
  {
   "cell_type": "code",
   "execution_count": 21,
   "id": "a62bc123-61d5-44c6-87b1-3ad8d8ba988a",
   "metadata": {},
   "outputs": [
    {
     "data": {
      "text/plain": [
       "2"
      ]
     },
     "execution_count": 21,
     "metadata": {},
     "output_type": "execute_result"
    }
   ],
   "source": [
    "1+1"
   ]
  },
  {
   "cell_type": "code",
   "execution_count": 22,
   "id": "fb560430-7e0a-4e42-929a-cf88d8e81191",
   "metadata": {},
   "outputs": [
    {
     "data": {
      "text/plain": [
       "6"
      ]
     },
     "execution_count": 22,
     "metadata": {},
     "output_type": "execute_result"
    }
   ],
   "source": [
    "2*3"
   ]
  },
  {
   "cell_type": "code",
   "execution_count": 23,
   "id": "98906bce-7b6c-4f7a-92f0-c633ca9c3724",
   "metadata": {},
   "outputs": [
    {
     "data": {
      "text/plain": [
       "2.4"
      ]
     },
     "execution_count": 23,
     "metadata": {},
     "output_type": "execute_result"
    }
   ],
   "source": [
    "12/5"
   ]
  },
  {
   "cell_type": "code",
   "execution_count": 24,
   "id": "c0fcb977-c8ec-4ceb-b2eb-925904870f37",
   "metadata": {},
   "outputs": [
    {
     "data": {
      "text/plain": [
       "6.25"
      ]
     },
     "execution_count": 24,
     "metadata": {},
     "output_type": "execute_result"
    }
   ],
   "source": [
    "2.5 ** 2"
   ]
  },
  {
   "cell_type": "code",
   "execution_count": 25,
   "id": "2c471b28-157f-47e1-aa79-d9cd04144be9",
   "metadata": {},
   "outputs": [
    {
     "data": {
      "text/plain": [
       "2"
      ]
     },
     "execution_count": 25,
     "metadata": {},
     "output_type": "execute_result"
    }
   ],
   "source": [
    "12 % 5"
   ]
  },
  {
   "cell_type": "code",
   "execution_count": 26,
   "id": "b11cb45d-7a76-4dfb-a6c2-7f6a247651d4",
   "metadata": {},
   "outputs": [
    {
     "data": {
      "text/plain": [
       "35"
      ]
     },
     "execution_count": 26,
     "metadata": {},
     "output_type": "execute_result"
    }
   ],
   "source": [
    "(2 + 5) * (3 + 2)"
   ]
  },
  {
   "cell_type": "markdown",
   "id": "a8f7099b-6823-4834-a18b-a3e05b5034c9",
   "metadata": {},
   "source": [
    "#### Variables"
   ]
  },
  {
   "cell_type": "code",
   "execution_count": 48,
   "id": "a0d6e225-f0a1-4fa4-920d-00bb159af494",
   "metadata": {},
   "outputs": [
    {
     "data": {
      "text/plain": [
       "22"
      ]
     },
     "execution_count": 48,
     "metadata": {},
     "output_type": "execute_result"
    }
   ],
   "source": [
    "a = 10\n",
    "b = 12\n",
    "c = a + b\n",
    "c"
   ]
  },
  {
   "cell_type": "code",
   "execution_count": 49,
   "id": "fe1caa97-4baf-49fe-a017-fdafb1268a3a",
   "metadata": {},
   "outputs": [],
   "source": [
    "x = 2\n",
    "x = x*x"
   ]
  },
  {
   "cell_type": "code",
   "execution_count": 50,
   "id": "baee5fdd-c228-4407-8cd7-581ea7fb7d6f",
   "metadata": {},
   "outputs": [
    {
     "data": {
      "text/plain": [
       "4"
      ]
     },
     "execution_count": 50,
     "metadata": {},
     "output_type": "execute_result"
    }
   ],
   "source": [
    "x"
   ]
  },
  {
   "cell_type": "code",
   "execution_count": 51,
   "id": "4975a417-9d72-4466-9ee0-99f4d4b92e7d",
   "metadata": {},
   "outputs": [
    {
     "name": "stdout",
     "output_type": "stream",
     "text": [
      "zsh:1: command not found: var\n"
     ]
    }
   ],
   "source": [
    "!var = 12"
   ]
  },
  {
   "cell_type": "code",
   "execution_count": 52,
   "id": "91332836-a78f-429b-9f96-ec7f5adc37c8",
   "metadata": {},
   "outputs": [
    {
     "ename": "SyntaxError",
     "evalue": "invalid syntax (<ipython-input-52-9ac514fac5b9>, line 1)",
     "output_type": "error",
     "traceback": [
      "\u001b[0;36m  File \u001b[0;32m\"<ipython-input-52-9ac514fac5b9>\"\u001b[0;36m, line \u001b[0;32m1\u001b[0m\n\u001b[0;31m    1num = 10\u001b[0m\n\u001b[0m     ^\u001b[0m\n\u001b[0;31mSyntaxError\u001b[0m\u001b[0;31m:\u001b[0m invalid syntax\n"
     ]
    }
   ],
   "source": [
    "1num = 10"
   ]
  },
  {
   "cell_type": "markdown",
   "id": "4dab8d5a-3a30-4e3d-8232-1845d4a69516",
   "metadata": {},
   "source": [
    "#### Comments and Strings"
   ]
  },
  {
   "cell_type": "code",
   "execution_count": 53,
   "id": "0ef27775-67dc-4198-aeaf-4b53f3e2ba97",
   "metadata": {},
   "outputs": [],
   "source": [
    "# This is a comment that uses a hash key"
   ]
  },
  {
   "cell_type": "code",
   "execution_count": 54,
   "id": "3b06b4c9-70ba-4a04-bed9-693d64e597ec",
   "metadata": {},
   "outputs": [
    {
     "data": {
      "text/plain": [
       "'This is a string'"
      ]
     },
     "execution_count": 54,
     "metadata": {},
     "output_type": "execute_result"
    }
   ],
   "source": [
    "'This is a string'"
   ]
  },
  {
   "cell_type": "code",
   "execution_count": 56,
   "id": "f6d3d266-930e-4cb5-94a2-a7f4e541051e",
   "metadata": {},
   "outputs": [
    {
     "ename": "SyntaxError",
     "evalue": "invalid syntax (<ipython-input-56-0b3668eec807>, line 1)",
     "output_type": "error",
     "traceback": [
      "\u001b[0;36m  File \u001b[0;32m\"<ipython-input-56-0b3668eec807>\"\u001b[0;36m, line \u001b[0;32m1\u001b[0m\n\u001b[0;31m    'I can't include single quotes inside single quotes\u001b[0m\n\u001b[0m           ^\u001b[0m\n\u001b[0;31mSyntaxError\u001b[0m\u001b[0;31m:\u001b[0m invalid syntax\n"
     ]
    }
   ],
   "source": [
    "'I can't include single quotes inside single quotes"
   ]
  },
  {
   "cell_type": "code",
   "execution_count": 57,
   "id": "00479cc9-988c-4ca5-bbfb-b6b478c24468",
   "metadata": {},
   "outputs": [
    {
     "data": {
      "text/plain": [
       "\"I'm able to include apostrophes with double quotes\""
      ]
     },
     "execution_count": 57,
     "metadata": {},
     "output_type": "execute_result"
    }
   ],
   "source": [
    "\"I'm able to include apostrophes with double quotes\""
   ]
  },
  {
   "cell_type": "markdown",
   "id": "9a7d40ee-3a21-41dc-98b3-6b4666873cd9",
   "metadata": {},
   "source": [
    "#### Print Statements"
   ]
  },
  {
   "cell_type": "code",
   "execution_count": 58,
   "id": "43dbc008-f16c-411c-ae02-99da59be2aef",
   "metadata": {},
   "outputs": [],
   "source": [
    "fruit = 'Apple'"
   ]
  },
  {
   "cell_type": "code",
   "execution_count": 59,
   "id": "d3ea0387-9b9f-43c5-ab7c-2bdd97f09b16",
   "metadata": {},
   "outputs": [
    {
     "data": {
      "text/plain": [
       "'Apple'"
      ]
     },
     "execution_count": 59,
     "metadata": {},
     "output_type": "execute_result"
    }
   ],
   "source": [
    "fruit"
   ]
  },
  {
   "cell_type": "code",
   "execution_count": 60,
   "id": "f38d002a-4445-4939-8a75-1ad1eee39c17",
   "metadata": {},
   "outputs": [
    {
     "name": "stdout",
     "output_type": "stream",
     "text": [
      "Apple\n"
     ]
    }
   ],
   "source": [
    "print(fruit)"
   ]
  },
  {
   "cell_type": "code",
   "execution_count": 61,
   "id": "eedb808c-b4c2-4154-8bdc-54480cdb4f1d",
   "metadata": {},
   "outputs": [],
   "source": [
    "age = 20\n",
    "name = 'Beth'"
   ]
  },
  {
   "cell_type": "code",
   "execution_count": 63,
   "id": "7047893f-8b0d-426c-8d37-855546d50f8b",
   "metadata": {},
   "outputs": [
    {
     "name": "stdout",
     "output_type": "stream",
     "text": [
      "My name is Beth and my age is 20\n"
     ]
    }
   ],
   "source": [
    "print('My name is {} and my age is {}'.format(name,age))"
   ]
  },
  {
   "cell_type": "code",
   "execution_count": 64,
   "id": "e4c7fc09-a138-4312-872d-520a0d13ab8d",
   "metadata": {},
   "outputs": [
    {
     "name": "stdout",
     "output_type": "stream",
     "text": [
      "My name is Ben and my age is 24\n"
     ]
    }
   ],
   "source": [
    "print('My name is {a} and my age is {b}'.format(a = 'Ben', b = 24))"
   ]
  },
  {
   "cell_type": "markdown",
   "id": "b52cc1ba-99f1-4bfe-81bd-557c0d59d0b2",
   "metadata": {},
   "source": [
    "#### Lists"
   ]
  },
  {
   "cell_type": "code",
   "execution_count": 65,
   "id": "0f5ff3e4-fda8-4a35-988a-bb86b6c20e48",
   "metadata": {},
   "outputs": [],
   "source": [
    "name = 'Veronica'"
   ]
  },
  {
   "cell_type": "code",
   "execution_count": 74,
   "id": "c43a407a-7f24-42cf-a9ca-1dc93cdc106b",
   "metadata": {},
   "outputs": [
    {
     "data": {
      "text/plain": [
       "'r'"
      ]
     },
     "execution_count": 74,
     "metadata": {},
     "output_type": "execute_result"
    }
   ],
   "source": [
    "name[2]"
   ]
  },
  {
   "cell_type": "code",
   "execution_count": 70,
   "id": "b07c4c52-ade4-47d1-8dff-36b08fbb03aa",
   "metadata": {},
   "outputs": [
    {
     "data": {
      "text/plain": [
       "'ronica'"
      ]
     },
     "execution_count": 70,
     "metadata": {},
     "output_type": "execute_result"
    }
   ],
   "source": [
    "name[2:8]"
   ]
  },
  {
   "cell_type": "code",
   "execution_count": 72,
   "id": "c1183b8c-907e-46be-ad3e-0fc42d01bbe2",
   "metadata": {},
   "outputs": [
    {
     "data": {
      "text/plain": [
       "'Veron'"
      ]
     },
     "execution_count": 72,
     "metadata": {},
     "output_type": "execute_result"
    }
   ],
   "source": [
    "name[:5]"
   ]
  },
  {
   "cell_type": "code",
   "execution_count": 73,
   "id": "47c259b4-c849-4e71-9732-f9a637409844",
   "metadata": {},
   "outputs": [
    {
     "data": {
      "text/plain": [
       "'onica'"
      ]
     },
     "execution_count": 73,
     "metadata": {},
     "output_type": "execute_result"
    }
   ],
   "source": [
    "name[3:]"
   ]
  },
  {
   "cell_type": "code",
   "execution_count": 101,
   "id": "5a14d2ad-b44e-4193-aef7-5f786dd6f87e",
   "metadata": {},
   "outputs": [],
   "source": [
    "# Lists are a sequence of elements that are enclosed within square brackets and separated by commas\n",
    "\n",
    "lst = [1,3,5,7,9]"
   ]
  },
  {
   "cell_type": "code",
   "execution_count": 85,
   "id": "ca643e6a-6950-4a79-8c07-82ee247f5077",
   "metadata": {},
   "outputs": [
    {
     "data": {
      "text/plain": [
       "5"
      ]
     },
     "execution_count": 85,
     "metadata": {},
     "output_type": "execute_result"
    }
   ],
   "source": [
    "lst[2]"
   ]
  },
  {
   "cell_type": "code",
   "execution_count": 86,
   "id": "9c1ea8b9-450a-42c3-b964-3fec8b25ff9e",
   "metadata": {},
   "outputs": [
    {
     "data": {
      "text/plain": [
       "[5, 7, 9]"
      ]
     },
     "execution_count": 86,
     "metadata": {},
     "output_type": "execute_result"
    }
   ],
   "source": [
    "lst[2:]"
   ]
  },
  {
   "cell_type": "code",
   "execution_count": 87,
   "id": "a92f6944-953d-475b-93cb-7866e30de0f9",
   "metadata": {},
   "outputs": [
    {
     "data": {
      "text/plain": [
       "[1, 3, 5, 7, 9, 11]"
      ]
     },
     "execution_count": 87,
     "metadata": {},
     "output_type": "execute_result"
    }
   ],
   "source": [
    "lst.append(11)\n",
    "lst"
   ]
  },
  {
   "cell_type": "code",
   "execution_count": 100,
   "id": "363fa072-df22-4cc3-b333-88d05cc4e1d4",
   "metadata": {},
   "outputs": [
    {
     "data": {
      "text/plain": [
       "[1, 2, [3, 4]]"
      ]
     },
     "execution_count": 100,
     "metadata": {},
     "output_type": "execute_result"
    }
   ],
   "source": [
    "# Nested lists are lists within lists\n",
    "\n",
    "n_lst = [1,2,[3,4]]\n",
    "n_lst"
   ]
  },
  {
   "cell_type": "code",
   "execution_count": 90,
   "id": "c81c0a59-15ce-4d49-b2ec-5b453269b4ec",
   "metadata": {},
   "outputs": [
    {
     "data": {
      "text/plain": [
       "[3, 4]"
      ]
     },
     "execution_count": 90,
     "metadata": {},
     "output_type": "execute_result"
    }
   ],
   "source": [
    "n_lst[2]"
   ]
  },
  {
   "cell_type": "code",
   "execution_count": 91,
   "id": "c341e68c-ec2b-4c6b-a9df-8847fe8cd86b",
   "metadata": {},
   "outputs": [
    {
     "data": {
      "text/plain": [
       "4"
      ]
     },
     "execution_count": 91,
     "metadata": {},
     "output_type": "execute_result"
    }
   ],
   "source": [
    "n_lst[2][1]"
   ]
  },
  {
   "cell_type": "code",
   "execution_count": 96,
   "id": "ff0077c0-e46d-47d7-aae0-233a9b35221b",
   "metadata": {},
   "outputs": [
    {
     "data": {
      "text/plain": [
       "[1, 2, 3, [4, 5], ['target', 'block']]"
      ]
     },
     "execution_count": 96,
     "metadata": {},
     "output_type": "execute_result"
    }
   ],
   "source": [
    "nest = [1,2,3,[4,5],['target','block']]\n",
    "nest"
   ]
  },
  {
   "cell_type": "code",
   "execution_count": 97,
   "id": "869cda1a-4f61-4d03-b09d-426ce36ee843",
   "metadata": {},
   "outputs": [
    {
     "data": {
      "text/plain": [
       "[4, 5]"
      ]
     },
     "execution_count": 97,
     "metadata": {},
     "output_type": "execute_result"
    }
   ],
   "source": [
    "nest[3]"
   ]
  },
  {
   "cell_type": "code",
   "execution_count": 98,
   "id": "40745566-d9a6-4b49-a5fc-114c3447c8ea",
   "metadata": {},
   "outputs": [
    {
     "data": {
      "text/plain": [
       "['target', 'block']"
      ]
     },
     "execution_count": 98,
     "metadata": {},
     "output_type": "execute_result"
    }
   ],
   "source": [
    "nest[4]"
   ]
  },
  {
   "cell_type": "code",
   "execution_count": 99,
   "id": "d6416a08-269a-400f-8989-ea29b422b906",
   "metadata": {},
   "outputs": [
    {
     "data": {
      "text/plain": [
       "'target'"
      ]
     },
     "execution_count": 99,
     "metadata": {},
     "output_type": "execute_result"
    }
   ],
   "source": [
    "nest[4][0]"
   ]
  },
  {
   "cell_type": "markdown",
   "id": "eea36c36-a26c-46c8-a8f9-f5f8d02e78ce",
   "metadata": {},
   "source": [
    "#### Dictionaries"
   ]
  },
  {
   "cell_type": "code",
   "execution_count": 103,
   "id": "1a3f95b6-8680-4c55-a40f-5bdf674997c2",
   "metadata": {},
   "outputs": [
    {
     "data": {
      "text/plain": [
       "{'key1': 'value1', 'key2': 1234}"
      ]
     },
     "execution_count": 103,
     "metadata": {},
     "output_type": "execute_result"
    }
   ],
   "source": [
    "# Dictionaries are key value pairs that are enclosed within flower brackets\n",
    "\n",
    "dict1 = {'key1':'value1','key2':1234}\n",
    "dict1"
   ]
  },
  {
   "cell_type": "code",
   "execution_count": 105,
   "id": "2a8da3ab-261e-4f34-94f6-9b10ab8f28ce",
   "metadata": {},
   "outputs": [
    {
     "data": {
      "text/plain": [
       "1234"
      ]
     },
     "execution_count": 105,
     "metadata": {},
     "output_type": "execute_result"
    }
   ],
   "source": [
    "dict1['key2']"
   ]
  },
  {
   "cell_type": "code",
   "execution_count": 108,
   "id": "b1ba15f5-8552-4354-97bd-4bf7c47dc317",
   "metadata": {},
   "outputs": [
    {
     "data": {
      "text/plain": [
       "{'a': 1, 'b': 2, 'c': {'d': [1, 2, 3]}}"
      ]
     },
     "execution_count": 108,
     "metadata": {},
     "output_type": "execute_result"
    }
   ],
   "source": [
    "d = {'a':1,'b':2,'c':{'d':[1,2,3]}}\n",
    "d"
   ]
  },
  {
   "cell_type": "code",
   "execution_count": 114,
   "id": "27826f75-a57c-40f9-a224-7e8251b5bfab",
   "metadata": {},
   "outputs": [
    {
     "data": {
      "text/plain": [
       "2"
      ]
     },
     "execution_count": 114,
     "metadata": {},
     "output_type": "execute_result"
    }
   ],
   "source": [
    "d['c']['d'][1]"
   ]
  },
  {
   "cell_type": "code",
   "execution_count": 115,
   "id": "2d6f727d-f878-4c09-9693-b009915c81ea",
   "metadata": {},
   "outputs": [
    {
     "data": {
      "text/plain": [
       "True"
      ]
     },
     "execution_count": 115,
     "metadata": {},
     "output_type": "execute_result"
    }
   ],
   "source": [
    "# Boolean values\n",
    "True "
   ]
  },
  {
   "cell_type": "code",
   "execution_count": 116,
   "id": "f7e4ed0e-9c26-4be4-90d1-bf0120f24456",
   "metadata": {},
   "outputs": [
    {
     "data": {
      "text/plain": [
       "False"
      ]
     },
     "execution_count": 116,
     "metadata": {},
     "output_type": "execute_result"
    }
   ],
   "source": [
    "False"
   ]
  },
  {
   "cell_type": "markdown",
   "id": "4109e947-604b-47bb-8884-e20b186d441a",
   "metadata": {},
   "source": [
    "#### Tuples"
   ]
  },
  {
   "cell_type": "code",
   "execution_count": 124,
   "id": "702f79ce-f773-42b7-9fe1-aaafba9c15c5",
   "metadata": {},
   "outputs": [
    {
     "data": {
      "text/plain": [
       "(1, 2, 3)"
      ]
     },
     "execution_count": 124,
     "metadata": {},
     "output_type": "execute_result"
    }
   ],
   "source": [
    "# A tuple is very similar to a list except that the elements are enclosed within paranthesis\n",
    "# What is the difference between a tuple and a list? \n",
    "# Tuples are immutable. Lists are not\n",
    "\n",
    "t = (1,2,3)\n",
    "t"
   ]
  },
  {
   "cell_type": "code",
   "execution_count": 127,
   "id": "cbc76cc5-26c9-4dc4-bc59-3665f90c3834",
   "metadata": {},
   "outputs": [
    {
     "data": {
      "text/plain": [
       "[2, 3, 5, 7, 9]"
      ]
     },
     "execution_count": 127,
     "metadata": {},
     "output_type": "execute_result"
    }
   ],
   "source": [
    "lst"
   ]
  },
  {
   "cell_type": "code",
   "execution_count": 128,
   "id": "b8ac3412-6b78-4bf1-923f-29a7b3f7ff10",
   "metadata": {},
   "outputs": [
    {
     "data": {
      "text/plain": [
       "[2, 3, 5, 7, 9]"
      ]
     },
     "execution_count": 128,
     "metadata": {},
     "output_type": "execute_result"
    }
   ],
   "source": [
    "lst[0] = 2\n",
    "lst"
   ]
  },
  {
   "cell_type": "code",
   "execution_count": 129,
   "id": "0c79c18b-5dc7-4760-9075-b27dcdeff528",
   "metadata": {},
   "outputs": [
    {
     "data": {
      "text/plain": [
       "1"
      ]
     },
     "execution_count": 129,
     "metadata": {},
     "output_type": "execute_result"
    }
   ],
   "source": [
    "t[0]"
   ]
  },
  {
   "cell_type": "code",
   "execution_count": 130,
   "id": "cddd0f4e-172a-4238-9423-36c910050dc4",
   "metadata": {},
   "outputs": [
    {
     "ename": "TypeError",
     "evalue": "'tuple' object does not support item assignment",
     "output_type": "error",
     "traceback": [
      "\u001b[0;31m---------------------------------------------------------------------------\u001b[0m",
      "\u001b[0;31mTypeError\u001b[0m                                 Traceback (most recent call last)",
      "\u001b[0;32m<ipython-input-130-f469ab99125e>\u001b[0m in \u001b[0;36m<module>\u001b[0;34m\u001b[0m\n\u001b[0;32m----> 1\u001b[0;31m \u001b[0mt\u001b[0m\u001b[0;34m[\u001b[0m\u001b[0;36m0\u001b[0m\u001b[0;34m]\u001b[0m \u001b[0;34m=\u001b[0m \u001b[0;34m'new'\u001b[0m\u001b[0;34m\u001b[0m\u001b[0;34m\u001b[0m\u001b[0m\n\u001b[0m",
      "\u001b[0;31mTypeError\u001b[0m: 'tuple' object does not support item assignment"
     ]
    }
   ],
   "source": [
    "t[0] = 'new'"
   ]
  },
  {
   "cell_type": "markdown",
   "id": "25227bce-52d9-4b63-86b4-857f70269660",
   "metadata": {},
   "source": [
    "#### Sets"
   ]
  },
  {
   "cell_type": "code",
   "execution_count": 131,
   "id": "5832f5e1-7894-4709-bdf8-5fd83a76e889",
   "metadata": {},
   "outputs": [
    {
     "data": {
      "text/plain": [
       "{1, 2, 3, 4, 5}"
      ]
     },
     "execution_count": 131,
     "metadata": {},
     "output_type": "execute_result"
    }
   ],
   "source": [
    "# Set is a collection of unique elements enclosed in curly brackets\n",
    "\n",
    "s = {1,2,2,3,4,4,4,5}\n",
    "s"
   ]
  },
  {
   "cell_type": "code",
   "execution_count": 132,
   "id": "5139e2fb-09e8-4853-bbc5-c7cd4681a2d0",
   "metadata": {},
   "outputs": [
    {
     "data": {
      "text/plain": [
       "{1, 2, 3, 4, 5, 6}"
      ]
     },
     "execution_count": 132,
     "metadata": {},
     "output_type": "execute_result"
    }
   ],
   "source": [
    "s.add(6)\n",
    "s"
   ]
  },
  {
   "cell_type": "markdown",
   "id": "9e524305-b62c-444e-b8b5-add57bd2519f",
   "metadata": {},
   "source": [
    "### Comparison and Logical Operators\n",
    "Comparison operators:\n",
    "* lesser than(<)\n",
    "* greater than (>) \n",
    "* equal to (==)\n",
    "* greater than or equal to (>=)\n",
    "* lesser than or equal to (<=)\n",
    "* not equal to (!=)\n",
    "\n",
    "Logical Operators:\n",
    "* and\n",
    "* or\n",
    "* not"
   ]
  },
  {
   "cell_type": "code",
   "execution_count": 135,
   "id": "be5f09f0-d034-4096-997a-bd7faee5f272",
   "metadata": {},
   "outputs": [
    {
     "data": {
      "text/plain": [
       "True"
      ]
     },
     "execution_count": 135,
     "metadata": {},
     "output_type": "execute_result"
    }
   ],
   "source": [
    "2 <= 8"
   ]
  },
  {
   "cell_type": "code",
   "execution_count": 136,
   "id": "d7cf8bce-7f32-48ef-b2ae-f26142ec3658",
   "metadata": {},
   "outputs": [
    {
     "data": {
      "text/plain": [
       "False"
      ]
     },
     "execution_count": 136,
     "metadata": {},
     "output_type": "execute_result"
    }
   ],
   "source": [
    "2 == 3"
   ]
  },
  {
   "cell_type": "code",
   "execution_count": 137,
   "id": "4f2b1740-dc05-4d35-adc4-77e5143118d0",
   "metadata": {},
   "outputs": [
    {
     "data": {
      "text/plain": [
       "False"
      ]
     },
     "execution_count": 137,
     "metadata": {},
     "output_type": "execute_result"
    }
   ],
   "source": [
    "(2 < 4) and (3 > 5)"
   ]
  },
  {
   "cell_type": "code",
   "execution_count": 138,
   "id": "33ab1454-ad11-43ee-94b1-3943005832ad",
   "metadata": {},
   "outputs": [
    {
     "data": {
      "text/plain": [
       "True"
      ]
     },
     "execution_count": 138,
     "metadata": {},
     "output_type": "execute_result"
    }
   ],
   "source": [
    "(2 < 4) or (3 > 5)"
   ]
  },
  {
   "cell_type": "markdown",
   "id": "44bf1702-4971-4767-b388-26e6e29b1b60",
   "metadata": {},
   "source": [
    "### if, elif, else statements"
   ]
  },
  {
   "cell_type": "code",
   "execution_count": 140,
   "id": "9be5acec-64ac-4897-87d0-1c131cc95feb",
   "metadata": {},
   "outputs": [
    {
     "name": "stdout",
     "output_type": "stream",
     "text": [
      "Greater\n"
     ]
    }
   ],
   "source": [
    "if 5 > 3:\n",
    "    print('Greater')"
   ]
  },
  {
   "cell_type": "code",
   "execution_count": 143,
   "id": "890f61e1-f5a6-4892-8ee1-ab7e561bc5f9",
   "metadata": {},
   "outputs": [
    {
     "name": "stdout",
     "output_type": "stream",
     "text": [
      "False\n"
     ]
    }
   ],
   "source": [
    "if 5 < 3:\n",
    "    print('Lesser')\n",
    "else:\n",
    "    print('False')"
   ]
  },
  {
   "cell_type": "code",
   "execution_count": 144,
   "id": "c8e3cbe0-7903-46db-95c3-84b2d2f50e18",
   "metadata": {},
   "outputs": [
    {
     "name": "stdout",
     "output_type": "stream",
     "text": [
      "Second Block\n"
     ]
    }
   ],
   "source": [
    "if (1 >= 3):\n",
    "    print('First Block')\n",
    "elif (1 <= 3):\n",
    "    print('Second Block')\n",
    "else:\n",
    "    print('Third Block')"
   ]
  },
  {
   "cell_type": "markdown",
   "id": "4fc931c8-c62a-4135-ae5f-3b827002941d",
   "metadata": {},
   "source": [
    "### For loops"
   ]
  },
  {
   "cell_type": "code",
   "execution_count": 145,
   "id": "cfebfaac-8e71-40ea-a042-2324f2dc97e9",
   "metadata": {},
   "outputs": [
    {
     "data": {
      "text/plain": [
       "[1, 2, 3, 4, 5]"
      ]
     },
     "execution_count": 145,
     "metadata": {},
     "output_type": "execute_result"
    }
   ],
   "source": [
    "# For loops allow us to iterate through a sequence\n",
    "\n",
    "seq=[1,2,3,4,5]\n",
    "seq"
   ]
  },
  {
   "cell_type": "code",
   "execution_count": 146,
   "id": "85cc5944-fed9-43e9-a615-6b7fc84660be",
   "metadata": {},
   "outputs": [
    {
     "name": "stdout",
     "output_type": "stream",
     "text": [
      "1\n",
      "2\n",
      "3\n",
      "4\n",
      "5\n"
     ]
    }
   ],
   "source": [
    "for item in seq:\n",
    "    print(item)"
   ]
  },
  {
   "cell_type": "code",
   "execution_count": 148,
   "id": "05996c88-2aee-4732-b5e4-6c1d92e431da",
   "metadata": {},
   "outputs": [
    {
     "name": "stdout",
     "output_type": "stream",
     "text": [
      "Hello\n",
      "Hello\n",
      "Hello\n",
      "Hello\n",
      "Hello\n"
     ]
    }
   ],
   "source": [
    "for i in seq:\n",
    "    print('Hello')"
   ]
  },
  {
   "cell_type": "markdown",
   "id": "ebf07b7e-22f9-49be-9c61-31984565a8f7",
   "metadata": {},
   "source": [
    "### While Loop"
   ]
  },
  {
   "cell_type": "code",
   "execution_count": 155,
   "id": "c9eaaaea-08c8-42a2-a447-d8639b1e7ce4",
   "metadata": {},
   "outputs": [
    {
     "name": "stdout",
     "output_type": "stream",
     "text": [
      "The value of i is 1\n",
      "The value of i is 2\n",
      "The value of i is 3\n",
      "The value of i is 4\n"
     ]
    }
   ],
   "source": [
    "# While loops perform a block of code until a given condition holds true\n",
    "\n",
    "i = 1\n",
    "while i < 5:\n",
    "    print('The value of i is {}'.format(i))\n",
    "    i = i + 1"
   ]
  },
  {
   "cell_type": "markdown",
   "id": "784f7947-69c3-485a-9d7b-c56b54b9dbce",
   "metadata": {},
   "source": [
    "### range()"
   ]
  },
  {
   "cell_type": "code",
   "execution_count": 156,
   "id": "ec784da8-8da8-4de4-9d6e-2159aacb8a48",
   "metadata": {},
   "outputs": [
    {
     "data": {
      "text/plain": [
       "range(0, 5)"
      ]
     },
     "execution_count": 156,
     "metadata": {},
     "output_type": "execute_result"
    }
   ],
   "source": [
    "# the range function helps execute a loop\n",
    "\n",
    "range(5)"
   ]
  },
  {
   "cell_type": "code",
   "execution_count": 158,
   "id": "420246f8-b7ae-458b-9e12-b3fa95a6d95c",
   "metadata": {},
   "outputs": [
    {
     "name": "stdout",
     "output_type": "stream",
     "text": [
      "Hello\n",
      "Hello\n",
      "Hello\n",
      "Hello\n",
      "Hello\n"
     ]
    }
   ],
   "source": [
    "for i in range(5):\n",
    "    print('Hello')"
   ]
  },
  {
   "cell_type": "code",
   "execution_count": 160,
   "id": "3f9eb52d-b0e6-4be7-be39-177433521e7b",
   "metadata": {},
   "outputs": [
    {
     "data": {
      "text/plain": [
       "[0, 1, 2, 3, 4]"
      ]
     },
     "execution_count": 160,
     "metadata": {},
     "output_type": "execute_result"
    }
   ],
   "source": [
    "list(range(5))"
   ]
  },
  {
   "cell_type": "code",
   "execution_count": 161,
   "id": "a9a8050b-5a20-4316-9c1f-fef7e48979d7",
   "metadata": {},
   "outputs": [],
   "source": [
    "x = [1,2,3,4]\n",
    "out = []\n",
    "for i in x:\n",
    "    out.append(i**2)"
   ]
  },
  {
   "cell_type": "code",
   "execution_count": 162,
   "id": "4504cc45-7ac8-43e6-a03d-072359665453",
   "metadata": {},
   "outputs": [
    {
     "name": "stdout",
     "output_type": "stream",
     "text": [
      "[1, 4, 9, 16]\n"
     ]
    }
   ],
   "source": [
    "print(out)"
   ]
  },
  {
   "cell_type": "markdown",
   "id": "beb8b2b2-9564-4b9c-8e9e-c4a1f320437d",
   "metadata": {},
   "source": [
    "### Functions"
   ]
  },
  {
   "cell_type": "code",
   "execution_count": 165,
   "id": "c0a6b70b-56d1-424c-8453-a5b06bff47c6",
   "metadata": {},
   "outputs": [],
   "source": [
    "# Functions allow you to make code reusable. \n",
    "# We can add codes that need to be executed multiple times within a funtion and call it whenever needed.\n",
    "\n",
    "def myfunc(name):\n",
    "    print('My name is ' + name)"
   ]
  },
  {
   "cell_type": "code",
   "execution_count": 166,
   "id": "af002224-5c73-42d5-acb2-319c4742a2f8",
   "metadata": {},
   "outputs": [
    {
     "name": "stdout",
     "output_type": "stream",
     "text": [
      "My name is Joe\n"
     ]
    }
   ],
   "source": [
    "myfunc('Joe')"
   ]
  },
  {
   "cell_type": "code",
   "execution_count": 168,
   "id": "1c9b7c31-c103-4e88-b733-d7f9465eac6b",
   "metadata": {},
   "outputs": [],
   "source": [
    "def squares(x):\n",
    "    return x**2"
   ]
  },
  {
   "cell_type": "code",
   "execution_count": 169,
   "id": "a0811efe-2c20-4fd2-95a4-6bbe3bb010db",
   "metadata": {},
   "outputs": [
    {
     "data": {
      "text/plain": [
       "144"
      ]
     },
     "execution_count": 169,
     "metadata": {},
     "output_type": "execute_result"
    }
   ],
   "source": [
    "squares(12)"
   ]
  },
  {
   "cell_type": "code",
   "execution_count": 170,
   "id": "617e29a1-1498-4fdd-8613-8152957ee46c",
   "metadata": {},
   "outputs": [],
   "source": [
    "def func(param1):\n",
    "    \"\"\"This docstring explains that the function prints the parameter\"\"\"\n",
    "    print(param1)"
   ]
  },
  {
   "cell_type": "code",
   "execution_count": 171,
   "id": "168c68c7-f2cb-464b-88b5-d86b5e97a4cc",
   "metadata": {},
   "outputs": [
    {
     "name": "stdout",
     "output_type": "stream",
     "text": [
      "Hey\n"
     ]
    }
   ],
   "source": [
    "func('Hey')"
   ]
  },
  {
   "cell_type": "code",
   "execution_count": 172,
   "id": "8ed92637-a2ef-4320-ac49-6be9bac6a228",
   "metadata": {},
   "outputs": [
    {
     "data": {
      "text/plain": [
       "<function __main__.func(param1)>"
      ]
     },
     "execution_count": 172,
     "metadata": {},
     "output_type": "execute_result"
    }
   ],
   "source": [
    "# Typing the name of the function and pressing SHIFT + TAB reveals the docstring of the function\n",
    "# This can help us understand how built in functions work in Python\n",
    "func "
   ]
  },
  {
   "cell_type": "markdown",
   "id": "4019dd9c-f7c0-495b-ba6e-3461b1428325",
   "metadata": {},
   "source": [
    "### Lambda Expressions "
   ]
  },
  {
   "cell_type": "code",
   "execution_count": 173,
   "id": "92fd8179-89de-4715-a55a-669516fd3dd6",
   "metadata": {},
   "outputs": [],
   "source": [
    "# Lambda expressions can be used to replace a function to be created\n",
    "\n",
    "t = lambda num:num**2"
   ]
  },
  {
   "cell_type": "code",
   "execution_count": 174,
   "id": "0c54cdec-85fe-41cc-a058-aa6303857b1b",
   "metadata": {},
   "outputs": [
    {
     "data": {
      "text/plain": [
       "9"
      ]
     },
     "execution_count": 174,
     "metadata": {},
     "output_type": "execute_result"
    }
   ],
   "source": [
    "t(3)"
   ]
  },
  {
   "cell_type": "markdown",
   "id": "df0beb41-55a4-44fa-9112-9b2e86c0e91b",
   "metadata": {},
   "source": [
    "### Map Function"
   ]
  },
  {
   "cell_type": "code",
   "execution_count": 175,
   "id": "7f87fc42-1a02-4f02-92bd-f1b3a73cbdd0",
   "metadata": {},
   "outputs": [],
   "source": [
    "# Map function helps us pass a sequence to a function\n",
    "s = [1,2,3,4,5]\n",
    "def funct(num):\n",
    "    return num**2"
   ]
  },
  {
   "cell_type": "code",
   "execution_count": 176,
   "id": "11e66c2e-b298-42cc-95fa-ee818124be39",
   "metadata": {},
   "outputs": [
    {
     "data": {
      "text/plain": [
       "<map at 0x7fee9845c5b0>"
      ]
     },
     "execution_count": 176,
     "metadata": {},
     "output_type": "execute_result"
    }
   ],
   "source": [
    "map(funct,s)"
   ]
  },
  {
   "cell_type": "code",
   "execution_count": 177,
   "id": "3c2050dc-a532-489e-ae8c-ea07a6d75d7e",
   "metadata": {},
   "outputs": [
    {
     "data": {
      "text/plain": [
       "[1, 4, 9, 16, 25]"
      ]
     },
     "execution_count": 177,
     "metadata": {},
     "output_type": "execute_result"
    }
   ],
   "source": [
    "list(map(funct,s))"
   ]
  },
  {
   "cell_type": "code",
   "execution_count": 178,
   "id": "6388ba4f-5bdf-4d30-955b-a10329640850",
   "metadata": {},
   "outputs": [
    {
     "data": {
      "text/plain": [
       "[1, 4, 9, 16, 25]"
      ]
     },
     "execution_count": 178,
     "metadata": {},
     "output_type": "execute_result"
    }
   ],
   "source": [
    "# We can use lambda to avoid creating a separate function for mapping\n",
    "\n",
    "list(map(lambda num:num**2,s))"
   ]
  },
  {
   "cell_type": "markdown",
   "id": "4e735e70-6a8a-4fca-bc4b-2ad15ed54b35",
   "metadata": {},
   "source": [
    "### Methods"
   ]
  },
  {
   "cell_type": "code",
   "execution_count": 179,
   "id": "f72c0ba1-48b9-416d-b5c5-01cad0465f55",
   "metadata": {},
   "outputs": [],
   "source": [
    "# Clicking on tab helps us see all the available methods\n",
    "\n",
    "s = 'My name is Sam'"
   ]
  },
  {
   "cell_type": "code",
   "execution_count": 180,
   "id": "c6b7a135-51fe-4a1a-83f9-964fda45cb4d",
   "metadata": {},
   "outputs": [
    {
     "data": {
      "text/plain": [
       "'my name is sam'"
      ]
     },
     "execution_count": 180,
     "metadata": {},
     "output_type": "execute_result"
    }
   ],
   "source": [
    "s.lower()"
   ]
  },
  {
   "cell_type": "code",
   "execution_count": 181,
   "id": "a382ce61-417f-49e5-abe5-4d4492dbe24f",
   "metadata": {},
   "outputs": [
    {
     "data": {
      "text/plain": [
       "'MY NAME IS SAM'"
      ]
     },
     "execution_count": 181,
     "metadata": {},
     "output_type": "execute_result"
    }
   ],
   "source": [
    "s.upper()"
   ]
  },
  {
   "cell_type": "code",
   "execution_count": 183,
   "id": "a6125410-6a63-42c6-8bfb-3db0d0f77bf5",
   "metadata": {},
   "outputs": [
    {
     "data": {
      "text/plain": [
       "['My', 'name', 'is', 'Sam']"
      ]
     },
     "execution_count": 183,
     "metadata": {},
     "output_type": "execute_result"
    }
   ],
   "source": [
    "s.split() #Splits based on all the white spaces"
   ]
  },
  {
   "cell_type": "code",
   "execution_count": 184,
   "id": "eadcd66c-9ccc-4f18-a0c0-432384977763",
   "metadata": {},
   "outputs": [],
   "source": [
    "tweet = 'Go UNCC! #49ers'"
   ]
  },
  {
   "cell_type": "code",
   "execution_count": 185,
   "id": "98cc7f1c-92c2-4d98-bc87-a32c59bd7620",
   "metadata": {},
   "outputs": [
    {
     "data": {
      "text/plain": [
       "['Go', 'UNCC!', '#49ers']"
      ]
     },
     "execution_count": 185,
     "metadata": {},
     "output_type": "execute_result"
    }
   ],
   "source": [
    "tweet.split()"
   ]
  },
  {
   "cell_type": "code",
   "execution_count": 188,
   "id": "a757027b-db14-406a-9a81-79adbd971542",
   "metadata": {},
   "outputs": [
    {
     "data": {
      "text/plain": [
       "['Go UNCC! ', '49ers']"
      ]
     },
     "execution_count": 188,
     "metadata": {},
     "output_type": "execute_result"
    }
   ],
   "source": [
    "tweet.split('#')"
   ]
  },
  {
   "cell_type": "code",
   "execution_count": 193,
   "id": "91e534eb-5dfa-4bdc-9194-570c153cd1dd",
   "metadata": {},
   "outputs": [
    {
     "data": {
      "text/plain": [
       "dict_keys(['key1', 'key2'])"
      ]
     },
     "execution_count": 193,
     "metadata": {},
     "output_type": "execute_result"
    }
   ],
   "source": [
    "dict1.keys()"
   ]
  },
  {
   "cell_type": "code",
   "execution_count": 194,
   "id": "36706fca-0318-4523-8921-6bffbddfbe70",
   "metadata": {},
   "outputs": [
    {
     "data": {
      "text/plain": [
       "dict_values(['value1', 1234])"
      ]
     },
     "execution_count": 194,
     "metadata": {},
     "output_type": "execute_result"
    }
   ],
   "source": [
    "dict1.values()"
   ]
  },
  {
   "cell_type": "code",
   "execution_count": 196,
   "id": "2a74af97-e566-451d-9d50-328726f730e6",
   "metadata": {},
   "outputs": [
    {
     "data": {
      "text/plain": [
       "9"
      ]
     },
     "execution_count": 196,
     "metadata": {},
     "output_type": "execute_result"
    }
   ],
   "source": [
    "lst.pop()"
   ]
  },
  {
   "cell_type": "code",
   "execution_count": 197,
   "id": "0ce1d790-fb99-4555-9346-5ae7ef5e3887",
   "metadata": {},
   "outputs": [
    {
     "data": {
      "text/plain": [
       "False"
      ]
     },
     "execution_count": 197,
     "metadata": {},
     "output_type": "execute_result"
    }
   ],
   "source": [
    "'x' in [1,2,3]"
   ]
  },
  {
   "cell_type": "code",
   "execution_count": 198,
   "id": "9bd0d69b-6975-466f-8c68-04ff1a62e4ad",
   "metadata": {},
   "outputs": [
    {
     "data": {
      "text/plain": [
       "True"
      ]
     },
     "execution_count": 198,
     "metadata": {},
     "output_type": "execute_result"
    }
   ],
   "source": [
    "2 in [1,2,3]"
   ]
  }
 ],
 "metadata": {
  "kernelspec": {
   "display_name": "Python 3",
   "language": "python",
   "name": "python3"
  },
  "language_info": {
   "codemirror_mode": {
    "name": "ipython",
    "version": 3
   },
   "file_extension": ".py",
   "mimetype": "text/x-python",
   "name": "python",
   "nbconvert_exporter": "python",
   "pygments_lexer": "ipython3",
   "version": "3.8.8"
  }
 },
 "nbformat": 4,
 "nbformat_minor": 5
}
