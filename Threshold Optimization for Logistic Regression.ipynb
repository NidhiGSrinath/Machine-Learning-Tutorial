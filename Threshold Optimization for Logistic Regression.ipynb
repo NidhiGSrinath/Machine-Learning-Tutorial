{
 "cells": [
  {
   "cell_type": "markdown",
   "id": "582db182-b92d-4233-b443-ca6622dd0858",
   "metadata": {},
   "source": [
    "# Threshold Optimization for Linear Regression\n",
    "\n",
    "\n",
    "Given one feature, logistic regression will output a probability, p, with respect to the target variable. If p is greater than 0.5, we label the data as '1'; if p is less than 0.5, we label it '0'. Here 0.5 is our default threshold. \n",
    "\n",
    "Now, what happens as we vary this threshold?\n",
    "In particular, what happens to the true positive and false positive rates as we vary the threshold?\n",
    "\n",
    "When the threshold equals zero, the model predicts '1' for all the data, which means the true positive rate is equal to the false positive rate is equal to one. When the threshold equals '1', the model predicts '0' for all data, which means that both true and false positive rates are 0. If we vary the threshold between these two extremes, we get a series of different false positive and true positive rates.\n",
    "The set of points we get when trying all possible thresholds is called the receiver operating characteristic curve or ROC curve."
   ]
  },
  {
   "cell_type": "code",
   "execution_count": 5,
   "id": "a4d21be1-facc-4749-b56b-b9732bb85745",
   "metadata": {},
   "outputs": [],
   "source": [
    "#Import the necassary packages\n",
    "import numpy as np\n",
    "import matplotlib.pyplot as plt"
   ]
  },
  {
   "cell_type": "code",
   "execution_count": 6,
   "id": "f36b4b0c-ba3a-4113-a81e-e06bab0c50ad",
   "metadata": {},
   "outputs": [],
   "source": [
    "# Load the Boston House dataset\n",
    "from sklearn.datasets import load_boston"
   ]
  },
  {
   "cell_type": "code",
   "execution_count": 7,
   "id": "1f563943-e912-4120-a704-42064a9f5eb8",
   "metadata": {},
   "outputs": [],
   "source": [
    "# Load the Logistic Regressor with StandardScaler and make_pipeline. We will get to their uses below\n",
    "from sklearn.linear_model import LogisticRegression\n",
    "from sklearn.preprocessing import StandardScaler\n",
    "from sklearn.pipeline import make_pipeline"
   ]
  },
  {
   "cell_type": "code",
   "execution_count": 34,
   "id": "e64e822e-df15-4159-a728-873d67db681d",
   "metadata": {},
   "outputs": [],
   "source": [
    "# Import train_test_split and cross_val_score with roc_curve, plot_roc_curve, and balanced_accuracy_score\n",
    "from sklearn.model_selection import train_test_split,cross_val_score\n",
    "from sklearn.metrics import confusion_matrix, classification_report, roc_curve,plot_roc_curve, balanced_accuracy_score"
   ]
  },
  {
   "cell_type": "code",
   "execution_count": 35,
   "id": "0d8fd4f8-8878-4eeb-bd55-701f94c36711",
   "metadata": {},
   "outputs": [],
   "source": [
    "# Declare the X and y variables.\n",
    "# load_boston is a package and contains a function return_X_y to directly declare X and y\n",
    "X,y = load_boston(return_X_y=True)"
   ]
  },
  {
   "cell_type": "markdown",
   "id": "985e2bb2-f0c2-4573-9a2b-8d6b9786fc48",
   "metadata": {},
   "source": [
    "We can now convert boston dataset into a binary classification problem creating a new target whose values is 1 if the original target value is greater than the mean value, 0 otherwise. Finally, we’ll split the dataset into training and test sets."
   ]
  },
  {
   "cell_type": "code",
   "execution_count": 36,
   "id": "fc256b4c-0fc4-44af-9bb3-457d0ba09c89",
   "metadata": {},
   "outputs": [],
   "source": [
    "y = (y > y.mean()).astype(int)"
   ]
  },
  {
   "cell_type": "code",
   "execution_count": 37,
   "id": "6a4d1c3d-9e5a-48e4-8fe6-5e7d9b07fece",
   "metadata": {},
   "outputs": [],
   "source": [
    "X_train, X_test, y_train, y_test = train_test_split(X, y, test_size=0.33, random_state=42)"
   ]
  },
  {
   "cell_type": "markdown",
   "id": "460c48e5-976d-462b-a61f-1751f9b0f6ee",
   "metadata": {},
   "source": [
    "We can now create our logistic regression pipeline along with a StandardScaler and fit it."
   ]
  },
  {
   "cell_type": "code",
   "execution_count": 38,
   "id": "fd063d57-fae8-4f84-9290-2c1c90b8a96f",
   "metadata": {},
   "outputs": [
    {
     "data": {
      "text/plain": [
       "Pipeline(steps=[('standardscaler', StandardScaler()),\n",
       "                ('logisticregression', LogisticRegression())])"
      ]
     },
     "execution_count": 38,
     "metadata": {},
     "output_type": "execute_result"
    }
   ],
   "source": [
    "model = make_pipeline(StandardScaler(),LogisticRegression())\n",
    "model.fit(X_train,y_train)"
   ]
  },
  {
   "cell_type": "code",
   "execution_count": 51,
   "id": "e704f4af-7351-4b2a-876b-c225d29e877d",
   "metadata": {},
   "outputs": [
    {
     "name": "stdout",
     "output_type": "stream",
     "text": [
      "[[102   4]\n",
      " [ 11  50]]\n",
      "              precision    recall  f1-score   support\n",
      "\n",
      "           0       0.90      0.96      0.93       106\n",
      "           1       0.93      0.82      0.87        61\n",
      "\n",
      "    accuracy                           0.91       167\n",
      "   macro avg       0.91      0.89      0.90       167\n",
      "weighted avg       0.91      0.91      0.91       167\n",
      "\n"
     ]
    }
   ],
   "source": [
    "pred = model.predict(X_test)\n",
    "print(confusion_matrix(y_test,pred))\n",
    "print(classification_report(y_test,pred))"
   ]
  },
  {
   "cell_type": "markdown",
   "id": "02a080ce-35c5-435e-8e5f-233c187e5810",
   "metadata": {},
   "source": [
    "We can see that the accuracy is 91%. Let us now tune this with the ROC curve."
   ]
  },
  {
   "cell_type": "code",
   "execution_count": 40,
   "id": "eed09a02-644e-42ee-8d42-729dc99065a0",
   "metadata": {},
   "outputs": [
    {
     "data": {
      "text/plain": [
       "<sklearn.metrics._plot.roc_curve.RocCurveDisplay at 0x7fcd10c0b6d0>"
      ]
     },
     "execution_count": 40,
     "metadata": {},
     "output_type": "execute_result"
    },
    {
     "data": {
      "image/png": "[encoded data removed]",
      "text/plain": [
       "<Figure size 432x288 with 1 Axes>"
      ]
     },
     "metadata": {
      "needs_background": "light"
     },
     "output_type": "display_data"
    }
   ],
   "source": [
    "plot_roc_curve(model,X_train,y_train)"
   ]
  },
  {
   "cell_type": "markdown",
   "id": "48c22836-54fe-40c5-aa5c-a3ec28c888d9",
   "metadata": {},
   "source": [
    "ROC is a method of tuning the threshold which helps us identify that threshold that gives us the upper-left corner of the curve. Mathematically speaking, that threshold p that satisfies the equation:\n",
    "TPR(p) = 1-FPR(p)\n",
    "\n",
    "we can calculate all the scores generated by our model and find the one that minimizes the argument above using the following code:"
   ]
  },
  {
   "cell_type": "code",
   "execution_count": 41,
   "id": "c6671ad0-6102-47ce-9ce7-3c5ebb9c8b17",
   "metadata": {},
   "outputs": [],
   "source": [
    "fpr, tpr, thresholds = roc_curve(y_train,model.predict_proba(X_train)[:,1],drop_intermediate=False)"
   ]
  },
  {
   "cell_type": "markdown",
   "id": "571be47e-1e80-4075-8a3c-f0d5c14496ea",
   "metadata": {},
   "source": [
    "We can plot the objective function with respect to the threshold and see where its minimum is."
   ]
  },
  {
   "cell_type": "code",
   "execution_count": 42,
   "id": "3c12bd80-ab70-46f9-9369-4bf9f1ea18d9",
   "metadata": {},
   "outputs": [
    {
     "data": {
      "image/png": "[encoded data removed]",
      "text/plain": [
       "<Figure size 432x288 with 1 Axes>"
      ]
     },
     "metadata": {
      "needs_background": "light"
     },
     "output_type": "display_data"
    }
   ],
   "source": [
    "plt.scatter(thresholds,np.abs(fpr+tpr-1))\n",
    "plt.xlabel(\"Threshold\")\n",
    "plt.ylabel(\"|FPR + TPR - 1|\")\n",
    "plt.show()"
   ]
  },
  {
   "cell_type": "markdown",
   "id": "8f911d98-fc70-4fb5-8d5e-2e69bdcf6389",
   "metadata": {},
   "source": [
    "We have a minimum that is visibly  before 0.5. We can find the correct value using the code snippet below"
   ]
  },
  {
   "cell_type": "code",
   "execution_count": 43,
   "id": "3c3df7a3-99f1-4fa5-aea9-6f049a3df055",
   "metadata": {},
   "outputs": [
    {
     "data": {
      "text/plain": [
       "0.4462568560243526"
      ]
     },
     "execution_count": 43,
     "metadata": {},
     "output_type": "execute_result"
    }
   ],
   "source": [
    "thresholds[np.argmin(np.abs(fpr+tpr-1))]"
   ]
  },
  {
   "cell_type": "markdown",
   "id": "95cc4403-6d59-40ea-a42a-71049401cea0",
   "metadata": {},
   "source": [
    "Now that we know the threshold is 0.44, lets try to use the regression model with the new threshold"
   ]
  },
  {
   "cell_type": "code",
   "execution_count": 47,
   "id": "0c751d5d-7d3b-4e61-a9a6-e8f2883da95a",
   "metadata": {},
   "outputs": [],
   "source": [
    "THRESHOLD = 0.446\n",
    "preds = np.where(model.predict_proba(X_test)[:,1] > THRESHOLD, 1, 0)"
   ]
  },
  {
   "cell_type": "code",
   "execution_count": 50,
   "id": "5f5c7925-ac6d-47d0-8380-45b9b2df9e03",
   "metadata": {},
   "outputs": [
    {
     "name": "stdout",
     "output_type": "stream",
     "text": [
      "[[94 12]\n",
      " [ 8 53]]\n",
      "              precision    recall  f1-score   support\n",
      "\n",
      "           0       0.92      0.89      0.90       106\n",
      "           1       0.82      0.87      0.84        61\n",
      "\n",
      "    accuracy                           0.88       167\n",
      "   macro avg       0.87      0.88      0.87       167\n",
      "weighted avg       0.88      0.88      0.88       167\n",
      "\n"
     ]
    }
   ],
   "source": [
    "print(confusion_matrix(y_test,preds))\n",
    "print(classification_report(y_test,preds))"
   ]
  },
  {
   "cell_type": "markdown",
   "id": "8a597b93-d07c-4bfb-a3b9-d5f2ef55f941",
   "metadata": {},
   "source": [
    "Although this is the threshold we want, we can observe that the original confusion matrix had lesser wrong predictions and more accuracy.\n",
    "Another approach we can follow is to find the threshold that maximizes the accuracy by using balanced accuracy because it takes into account a possible unbalanced dataset.\n",
    "\n",
    "We first run through all the scores and store the accuracies in a list. Then we plot them."
   ]
  },
  {
   "cell_type": "code",
   "execution_count": 52,
   "id": "8d3c6140-26b6-44a8-9c81-ba6cdaee8c02",
   "metadata": {},
   "outputs": [],
   "source": [
    "threshold = []\n",
    "accuracy = []\n",
    "\n",
    "for p in np.unique(model.predict_proba(X_train)[:,1]):\n",
    "  threshold.append(p)\n",
    "  y_pred = (model.predict_proba(X_train)[:,1] >= p).astype(int)\n",
    "  accuracy.append(balanced_accuracy_score(y_train,y_pred))"
   ]
  },
  {
   "cell_type": "markdown",
   "id": "8eaab8e2-d91f-4e93-a6ba-1fecb445a155",
   "metadata": {},
   "source": [
    "Now plotting the revised curve"
   ]
  },
  {
   "cell_type": "code",
   "execution_count": 53,
   "id": "04e84414-8d38-4675-8d65-e8f637cec27b",
   "metadata": {},
   "outputs": [
    {
     "data": {
      "image/png": "[encoded data removed]",
      "text/plain": [
       "<Figure size 432x288 with 1 Axes>"
      ]
     },
     "metadata": {
      "needs_background": "light"
     },
     "output_type": "display_data"
    }
   ],
   "source": [
    "plt.scatter(threshold,accuracy)\n",
    "plt.xlabel(\"Threshold\")\n",
    "plt.ylabel(\"Balanced accuracy\")\n",
    "plt.show()"
   ]
  },
  {
   "cell_type": "markdown",
   "id": "dbb94680-511a-4fe0-bb45-9be3769949d3",
   "metadata": {},
   "source": [
    "Here, we can see that the maximum is visibly between 0.4 and 0.6\n",
    "\n",
    "Let us find what the maximum value is in the range 0.4 to 0.6"
   ]
  },
  {
   "cell_type": "code",
   "execution_count": 55,
   "id": "e4ea3cd2-dbe8-4a69-9387-1724c94c245b",
   "metadata": {},
   "outputs": [
    {
     "data": {
      "text/plain": [
       "0.5602892029099028"
      ]
     },
     "execution_count": 55,
     "metadata": {},
     "output_type": "execute_result"
    }
   ],
   "source": [
    "threshold[np.argmax(accuracy)]"
   ]
  },
  {
   "cell_type": "markdown",
   "id": "8ef116b0-0632-4e79-a884-2f2bc1502ca4",
   "metadata": {},
   "source": [
    "The threshold producing the maximum accuracy is 0.56"
   ]
  },
  {
   "cell_type": "code",
   "execution_count": 61,
   "id": "5a5c8fdf-064e-4f8a-8d73-987700a540e9",
   "metadata": {},
   "outputs": [],
   "source": [
    "THRESHOLD = 0.56\n",
    "preds = np.where(model.predict_proba(X_test)[:,1] > THRESHOLD, 1, 0)"
   ]
  },
  {
   "cell_type": "code",
   "execution_count": 62,
   "id": "71655ae5-a57e-4723-adad-26ffe2f556b8",
   "metadata": {},
   "outputs": [
    {
     "name": "stdout",
     "output_type": "stream",
     "text": [
      "[[103   3]\n",
      " [ 12  49]]\n",
      "              precision    recall  f1-score   support\n",
      "\n",
      "           0       0.90      0.97      0.93       106\n",
      "           1       0.94      0.80      0.87        61\n",
      "\n",
      "    accuracy                           0.91       167\n",
      "   macro avg       0.92      0.89      0.90       167\n",
      "weighted avg       0.91      0.91      0.91       167\n",
      "\n"
     ]
    }
   ],
   "source": [
    "print(confusion_matrix(y_test,preds))\n",
    "print(classification_report(y_test,preds))"
   ]
  },
  {
   "cell_type": "markdown",
   "id": "f5a277e5-4cd3-43cb-be9a-21492ce8f896",
   "metadata": {},
   "source": [
    "As shown, the prediction accuracy is 91%."
   ]
  }
 ],
 "metadata": {
  "kernelspec": {
   "display_name": "Python 3",
   "language": "python",
   "name": "python3"
  },
  "language_info": {
   "codemirror_mode": {
    "name": "ipython",
    "version": 3
   },
   "file_extension": ".py",
   "mimetype": "text/x-python",
   "name": "python",
   "nbconvert_exporter": "python",
   "pygments_lexer": "ipython3",
   "version": "3.8.8"
  }
 },
 "nbformat": 4,
 "nbformat_minor": 5
}
